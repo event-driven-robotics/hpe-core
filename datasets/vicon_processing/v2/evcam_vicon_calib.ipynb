{
 "cells": [
  {
   "cell_type": "markdown",
   "id": "1ebff816",
   "metadata": {},
   "source": [
    "### Import Library"
   ]
  },
  {
   "cell_type": "code",
   "execution_count": 1,
   "id": "777636b8",
   "metadata": {},
   "outputs": [],
   "source": [
    "import sys\n",
    "import os\n",
    "import cv2\n",
    "import numpy as np\n",
    "import matplotlib.pyplot as plt\n",
    "import argparse\n",
    "import c3d\n",
    "import importlib\n",
    "from typing import List\n",
    "\n",
    "# Import helpers\n",
    "sys.path.append('/app/hpe-core/datasets/vicon_processing/v2')\n",
    "import helpers\n",
    "\n",
    "# Import bimvee\n",
    "sys.path.append('./submodules/bimvee')\n",
    "from bimvee.importIitYarp import importIitYarp"
   ]
  },
  {
   "cell_type": "markdown",
   "id": "6036571e",
   "metadata": {},
   "source": [
    "### Load parameters"
   ]
  },
  {
   "cell_type": "code",
   "execution_count": null,
   "id": "ca0d3298",
   "metadata": {},
   "outputs": [],
   "source": [
    "vicon_c3d_file: str = '/data/EventLS/calib_test1/VICON/test10_calib02.c3d'\n",
    "events_folder: str = '/data/EventLS/calib_test1/Events/right'\n",
    "calib_path: str = '/data/EventLS/Calibration/calib_right.txt'\n",
    "period: float = 1.0 / 25\n",
    "label_tag_file: str = '../scripts/config/labels_tags_vicon.yml'"
   ]
  },
  {
   "cell_type": "markdown",
   "id": "17cd076e",
   "metadata": {},
   "source": [
    "### Import event data"
   ]
  },
  {
   "cell_type": "code",
   "execution_count": 3,
   "id": "415f4562",
   "metadata": {},
   "outputs": [
    {
     "name": "stdout",
     "output_type": "stream",
     "text": [
      "importIitYarp trying path: /data/EventLS/calib_test2/Events/left\n"
     ]
    },
    {
     "name": "stderr",
     "output_type": "stream",
     "text": [
      "100%|██████████| 14875/14875 [00:37<00:00, 399.88it/s] \n"
     ]
    },
    {
     "name": "stdout",
     "output_type": "stream",
     "text": [
      "Examining info.log: /data/EventLS/calib_test2/Events/left/info.log\n"
     ]
    }
   ],
   "source": [
    "v_data: dict = importIitYarp(filePathOrName=events_folder, template=None)\n",
    "e_ts: np.ndarray = v_data['data']['left']['dvs']['ts']\n",
    "e_us: np.ndarray = v_data['data']['left']['dvs']['x']\n",
    "e_vs: np.ndarray = v_data['data']['left']['dvs']['y']"
   ]
  },
  {
   "cell_type": "markdown",
   "id": "aca9fdd5",
   "metadata": {},
   "source": [
    "### Import C3D data"
   ]
  },
  {
   "cell_type": "code",
   "execution_count": null,
   "id": "28f9840c",
   "metadata": {},
   "outputs": [],
   "source": [
    "c3d_data = c3d.Reader(open(vicon_c3d_file, 'rb'))\n",
    "points_3d: dict = {}\n",
    "for i, points, analog in c3d_data.read_frames():\n",
    "    points_3d[i] = points\n",
    "\n",
    "marker_t = np.linspace(0.0, c3d_data.frame_count / c3d_data.point_rate, \n",
    "                            c3d_data.frame_count, endpoint=False)"
   ]
  },
  {
   "cell_type": "code",
   "execution_count": null,
   "id": "157617de",
   "metadata": {},
   "outputs": [],
   "source": [
    "points_3d[1]"
   ]
  },
  {
   "cell_type": "markdown",
   "id": "35b2891c",
   "metadata": {},
   "source": [
    "### Import calibration data"
   ]
  },
  {
   "cell_type": "code",
   "execution_count": null,
   "id": "e236e13d",
   "metadata": {},
   "outputs": [],
   "source": [
    "calib = np.genfromtxt(calib_path, delimiter=\" \", skip_header=1, dtype=object)\n",
    "\n",
    "calib_dict = {}\n",
    "keys = calib[:, 0].astype(str)\n",
    "vals = calib[:, 1].astype(float)\n",
    "calib_dict = {\n",
    "    key: value for key, value in zip(keys, vals)\n",
    "}\n",
    "cam_res = np.int64([calib_dict['h'], calib_dict['w']])\n",
    "cam_res_rgb = np.append(cam_res, 3)\n",
    "# intrinsic\n",
    "K = np.array([\n",
    "    [calib_dict['fx'], 0.0, calib_dict['cx']],\n",
    "    [0.0, calib_dict['fy'], calib_dict['cy']],\n",
    "    [0.0, 0.0, 1.0]\n",
    "])\n",
    "# camera distortion\n",
    "D = np.array([calib_dict['k1'], calib_dict['k2'], calib_dict['p1'], calib_dict['p2']])\n"
   ]
  },
  {
   "cell_type": "markdown",
   "id": "b424162a",
   "metadata": {},
   "source": [
    "### Visualize event data as time window"
   ]
  },
  {
   "cell_type": "code",
   "execution_count": null,
   "id": "d3fd600a",
   "metadata": {},
   "outputs": [],
   "source": [
    "img = np.ones(cam_res, dtype = np.uint8)*255\n",
    "\n",
    "ft = e_ts[0]\n",
    "for i in range(0,len(e_ts)):\n",
    "    #clear the frame at intervals\n",
    "    if e_ts[i] >= ft:\n",
    "        cv2.imshow('Visualisation', img)\n",
    "        k = cv2.waitKey(np.int64(period*1000))\n",
    "        if k == 27:  # ESC key to stop\n",
    "            break\n",
    "        img = np.ones(cam_res, dtype = np.uint8)*255\n",
    "        ft = ft + period\n",
    "    img[e_vs[i],e_us[i]] = 0\n",
    "    \n",
    "cv2.destroyAllWindows()"
   ]
  },
  {
   "cell_type": "markdown",
   "id": "57468a35",
   "metadata": {},
   "source": [
    "### Label sequence"
   ]
  },
  {
   "cell_type": "code",
   "execution_count": null,
   "id": "e01b41b5",
   "metadata": {},
   "outputs": [],
   "source": [
    "importlib.reload(helpers)\n",
    "from helpers import DvsLabeler\n",
    "\n",
    "labels_path = os.path.join(os.path.dirname(vicon_c3d_file), \"labels_all.yml\")\n",
    "\n",
    "time_tags, event_indices = helpers.calc_indices(e_ts, period)\n",
    "\n",
    "img = np.ones(cam_res, dtype = np.uint8)*255\n",
    "\n",
    "labeler = DvsLabeler(img_shape=(720, 1280, 3), subject='box')\n",
    "labeler.label_data(e_ts, e_us, e_vs, event_indices, time_tags, period, label_tag_file)\n",
    "labeler.save_labeled_points(labels_path)\n",
    "\n",
    "print(\"Saved labeled points at:\", labels_path)\n",
    "    \n",
    "cv2.destroyAllWindows()"
   ]
  },
  {
   "cell_type": "code",
   "execution_count": null,
   "id": "66e274f8",
   "metadata": {},
   "outputs": [],
   "source": [
    "time_tags, event_indices = helpers.calc_indices(e_ts, period)"
   ]
  },
  {
   "cell_type": "markdown",
   "id": "ecf40b31",
   "metadata": {},
   "source": [
    "### Load labels and calculate transformation matrix"
   ]
  },
  {
   "cell_type": "code",
   "execution_count": null,
   "id": "9062f56a",
   "metadata": {},
   "outputs": [],
   "source": [
    "importlib.reload(helpers)\n",
    "from helpers import ViconHelper\n",
    "from scipy.spatial.transform import Rotation as R\n",
    "\n",
    "time_tags, event_indices = helpers.calc_indices(e_ts, period)\n",
    "e_tags = e_ts[event_indices]\n",
    "delay = e_tags[-1] - marker_t[-1]   # get time difference so to generate ids for the frames\n",
    "print(\"Delay: \", delay)\n",
    "\n",
    "labels_path = os.path.join(os.path.dirname(vicon_c3d_file), \"labels3.yml\")\n",
    "\n",
    "labeled_points = helpers.read_points_labels(labels_path) # read labeled points from the yaml file\n",
    "labels_time = labeled_points['times']\n",
    "\n",
    "vicon_helper = ViconHelper(marker_t, points_3d, delay, c3d_data.frame_count, c3d_data.point_rate, c3d_data.point_labels, True, True) # if needed create the function to call instead of None\n",
    "\n",
    "# extract the frames_id from the labeled points\n",
    "frames_id = vicon_helper.get_frame_time(labeled_points['times'])\n",
    "vicon_points = vicon_helper.get_vicon_points_interpolated(labeled_points)\n",
    "print(\"First few label dicts from YAML:\")\n",
    "for i, d in enumerate(labeled_points['points']):\n",
    "    print(f\"Frame {i}: {d}\")\n",
    "\n",
    "# Solve PnP\n",
    "world_points = []\n",
    "image_points = []\n",
    "\n",
    "for dvs_frame, vicon_frame in zip(labeled_points['points'], vicon_points['points']):\n",
    "    labels = dvs_frame.keys()\n",
    "\n",
    "    for l in labels:\n",
    "        try:\n",
    "            w_p = vicon_frame[l]\n",
    "            i_p = [\n",
    "                dvs_frame[l]['x'],\n",
    "                dvs_frame[l]['y'] #,\n",
    "                # 1.0\n",
    "            ]\n",
    "\n",
    "            world_points.append(w_p)\n",
    "            image_points.append(i_p)\n",
    "        except Exception as e:\n",
    "            print(\"The stored image labels probably don't match with the vicon labels used.\")\n",
    "            print(e)\n",
    "\n",
    "world_points = np.array(world_points, dtype=np.float64)\n",
    "image_points = np.array(image_points, dtype=np.float64)\n",
    "image_points = image_points[:, :2]\n",
    "\n",
    "print(\"world_points shape:\", world_points.shape)\n",
    "print(\"image_points shape:\", image_points.shape)\n",
    "\n",
    "# Solve PnP, with 3D points from vicon and 2D points from labels\n",
    "success, rvec, tvec = cv2.solvePnP(world_points, image_points, K, D)\n",
    "\n",
    "# Calculate transformation matrix from system to camera\n",
    "if success:\n",
    "    R_w2c, _ = cv2.Rodrigues(rvec)\n",
    "    T_w2c = np.zeros((4, 4))\n",
    "    T_w2c[0:3, 0:3] = R_w2c\n",
    "    T_w2c[0:3, 3] = tvec[:, 0]\n",
    "    T_w2c[3, 3] = 1.0\n",
    "    T_world_to_system = vicon_helper.compute_camera_marker_transforms(c3d_data, points_3d)\n",
    "    frame_id = vicon_points['frame_ids'][0]\n",
    "    T_system_to_camera = T_w2c @ np.linalg.inv(T_world_to_system[frame_id])\n",
    "    print(\"Transformation matrix from system to camera:\")\n",
    "    print(T_system_to_camera)"
   ]
  },
  {
   "cell_type": "markdown",
   "id": "440dfd04",
   "metadata": {},
   "source": [
    "### Debug: Create averaged transformation matrix from system to camera"
   ]
  },
  {
   "cell_type": "code",
   "execution_count": null,
   "id": "366ee0ae",
   "metadata": {},
   "outputs": [],
   "source": [
    "importlib.reload(helpers)\n",
    "from helpers import ViconHelper\n",
    "from scipy.spatial.transform import Rotation as R\n",
    "\n",
    "time_tags, event_indices = helpers.calc_indices(e_ts, period)\n",
    "e_tags = e_ts[event_indices]\n",
    "delay = e_tags[-1] - marker_t[-1]   # get time difference so to generate ids for the frames\n",
    "print(\"Delay: \", delay)\n",
    "\n",
    "labels_path = os.path.join(os.path.dirname(vicon_c3d_file), \"labels_all.yml\")\n",
    "\n",
    "labeled_points = helpers.read_points_labels(labels_path) # read labeled points from the yaml file\n",
    "labels_time = labeled_points['times']\n",
    "\n",
    "vicon_helper = ViconHelper(marker_t, points_3d, delay, c3d_data.frame_count, c3d_data.point_rate, c3d_data.point_labels, True, True) # if needed create the function to call instead of None\n",
    "\n",
    "# extract the frames_id from the labeled points\n",
    "frames_id = vicon_helper.get_frame_time(labeled_points['times'])\n",
    "vicon_points = vicon_helper.get_vicon_points_interpolated(labeled_points)\n",
    "print(\"First few label dicts from YAML:\")\n",
    "for i, d in enumerate(labeled_points['points']):\n",
    "    print(f\"Frame {i}: {d}\")\n",
    "\n",
    "# Solve PnP\n",
    "world_points = []\n",
    "image_points = []\n",
    "Ts_system_to_camera: List[np.ndarray] = []\n",
    "Ts_world_to_system = vicon_helper.compute_camera_marker_transforms(c3d_data, points_3d)\n",
    "\n",
    "for idx, (dvs_frame, vicon_frame) in enumerate(zip(labeled_points['points'], vicon_points['points'])):\n",
    "    labels = dvs_frame.keys()\n",
    "\n",
    "    for l in labels:\n",
    "        try:\n",
    "            w_p = vicon_frame[l]\n",
    "            i_p = [\n",
    "                dvs_frame[l]['x'],\n",
    "                dvs_frame[l]['y'] #,\n",
    "                # 1.0\n",
    "            ]\n",
    "\n",
    "            world_points.append(w_p)\n",
    "            image_points.append(i_p)\n",
    "        except Exception as e:\n",
    "            print(\"The stored image labels probably don't match with the vicon labels used.\")\n",
    "            print(e)\n",
    "\n",
    "    world_points = np.array(world_points, dtype=np.float64)\n",
    "    image_points = np.array(image_points, dtype=np.float64)\n",
    "    image_points = image_points[:, :2]\n",
    "\n",
    "\n",
    "    # Solve PnP, with 3D points from vicon and 2D points from labels\n",
    "    success, rvec, tvec = cv2.solvePnP(world_points, image_points, K, D)\n",
    "\n",
    "    # Calculate transformation matrix from system to camera\n",
    "    if success:\n",
    "        R_w2c, _ = cv2.Rodrigues(rvec)\n",
    "        T_w2c = np.zeros((4, 4))\n",
    "        T_w2c[0:3, 0:3] = R_w2c\n",
    "        T_w2c[0:3, 3] = tvec[:, 0]\n",
    "        T_w2c[3, 3] = 1.0\n",
    "        frame_id = vicon_points['frame_ids'][idx]\n",
    "        T_system_to_camera = T_w2c @ np.linalg.inv(Ts_world_to_system[frame_id])\n",
    "        Ts_system_to_camera.append(T_system_to_camera)"
   ]
  },
  {
   "cell_type": "markdown",
   "id": "8a3096c4",
   "metadata": {},
   "source": [
    "### Debug: Use scipy optimizer to get Transformation matrix from system to camera"
   ]
  },
  {
   "cell_type": "code",
   "execution_count": null,
   "id": "51c2eee3",
   "metadata": {},
   "outputs": [],
   "source": [
    "from scipy.optimize import least_squares\n",
    "\n",
    "def reprojection_error(params, Ps, pc, K, dist):\n",
    "    \"\"\"\n",
    "    params: 6次元 (rotation_vector [3], translation [3])\n",
    "    Ps: (N, 3) 3D点（システム座標系）\n",
    "    pc: (N, 2) 2D点（画像座標系）\n",
    "    K: (3, 3) カメラ行列\n",
    "    dist: (5,) 歪みパラメータ（OpenCV形式）\n",
    "    \"\"\"\n",
    "    rvec = params[:3]\n",
    "    tvec = params[3:6]\n",
    "\n",
    "    # OpenCVのprojectPointsで再投影\n",
    "    projected_points, _ = cv2.projectPoints(Ps, rvec, tvec, K, dist)\n",
    "    projected_points = projected_points.reshape(-1, 2)\n",
    "\n",
    "    return (projected_points - pc).ravel()  # フラット化して返す\n",
    "\n",
    "def estimate_Tstoc(Ps, pc, K, dist, init_params=None):\n",
    "    \"\"\"\n",
    "    Ps: (N, 3) 3D点（システム座標系）\n",
    "    pc: (N, 2) 2D点（画像座標系）\n",
    "    K: (3, 3) 内部パラメータ\n",
    "    dist: (5,) 歪み\n",
    "    return: (4, 4) システム→カメラ座標変換行列 Tstoc\n",
    "    \"\"\"\n",
    "\n",
    "    # 初期値: ゼロ回転、ゼロ並進\n",
    "    if init_params is None:\n",
    "        # 初期値をゼロに設定\n",
    "        init_params = np.zeros(6)\n",
    "\n",
    "    # 最小化（LM法などを選択可）\n",
    "    res = least_squares(\n",
    "        reprojection_error,\n",
    "        init_params,\n",
    "        args=(Ps, pc, K, dist),\n",
    "        method='lm'  # Levenberg-Marquardt\n",
    "    )\n",
    "\n",
    "    rvec_opt = res.x[:3]\n",
    "    tvec_opt = res.x[3:6]\n",
    "    R_opt, _ = cv2.Rodrigues(rvec_opt)\n",
    "\n",
    "    # 同次変換行列を構成\n",
    "    T = np.eye(4)\n",
    "    T[:3, :3] = R_opt\n",
    "    T[:3, 3] = tvec_opt\n",
    "\n",
    "    return T, res"
   ]
  },
  {
   "cell_type": "code",
   "execution_count": null,
   "id": "9dfbbc63",
   "metadata": {},
   "outputs": [],
   "source": [
    "importlib.reload(helpers)\n",
    "from helpers import ViconHelper\n",
    "\n",
    "time_tags, event_indices = helpers.calc_indices(e_ts, period)\n",
    "e_tags = e_ts[event_indices]\n",
    "delay = e_tags[-1] - marker_t[-1]   # get time difference so to generate ids for the frames\n",
    "print(\"Delay: \", delay)\n",
    "\n",
    "labels_path = os.path.join(os.path.dirname(vicon_c3d_file), \"labels_all.yml\")\n",
    "\n",
    "labeled_points = helpers.read_points_labels(labels_path) # read labeled points from the yaml file\n",
    "labels_time = labeled_points['times']\n",
    "\n",
    "vicon_helper = ViconHelper(marker_t, points_3d, delay, c3d_data.frame_count, c3d_data.point_rate, c3d_data.point_labels, True, True) # if needed create the function to call instead of None\n",
    "\n",
    "# extract the frames_id from the labeled points\n",
    "frames_id = vicon_helper.get_frame_time(labeled_points['times'])\n",
    "vicon_points = vicon_helper.get_vicon_points_interpolated(labeled_points)\n",
    "print(\"First few label dicts from YAML:\")\n",
    "for i, d in enumerate(labeled_points['points']):\n",
    "    print(f\"Frame {i}: {d}\")\n",
    "\n",
    "# Solve PnP\n",
    "system_points = []\n",
    "image_points = []\n",
    "Ts_system_to_camera: List[np.ndarray] = []\n",
    "Ts_world_to_system = vicon_helper.compute_camera_marker_transforms(c3d_data, points_3d)\n",
    "\n",
    "for idx, (dvs_frame, vicon_frame) in enumerate(zip(labeled_points['points'], vicon_points['points'])):\n",
    "    labels = dvs_frame.keys()\n",
    "\n",
    "    for l in labels:\n",
    "        try:\n",
    "            w_p = vicon_frame[l]\n",
    "            w_ph = np.append(w_p, 1.0)  # homogeneous coordinates\n",
    "            i_p = [\n",
    "                dvs_frame[l]['x'],\n",
    "                dvs_frame[l]['y'] #,\n",
    "                # 1.0\n",
    "            ]\n",
    "            frame_id = vicon_points['frame_ids'][idx]\n",
    "            p_sys = Ts_world_to_system[frame_id] @ w_ph  # convert to system coordinates\n",
    "            system_points.append(p_sys[:3])\n",
    "            image_points.append(i_p)\n",
    "        except Exception as e:\n",
    "            print(\"The stored image labels probably don't match with the vicon labels used.\")\n",
    "            print(e)\n",
    "\n",
    "system_points = np.array(system_points, dtype=np.float64)\n",
    "image_points = np.array(image_points, dtype=np.float64)\n",
    "image_points = image_points[:, :2]\n",
    "\n"
   ]
  },
  {
   "cell_type": "code",
   "execution_count": null,
   "id": "2de8aa43",
   "metadata": {},
   "outputs": [],
   "source": [
    "init_T = np.array([[ 5.54118388e-01, -6.46688971e-01, 5.24162298e-01, -1.25350531e+02], [-3.65516271e-01, -7.54740636e-01, -5.44760888e-01, -8.06780263e+00], [ 7.47897430e-01, 1.10272191e-01, -6.54591006e-01, -9.41323412e+01], [ 0.00000000e+00, 0.00000000e+00, 0.00000000e+00, 1.00000000e+00]]) "
   ]
  },
  {
   "cell_type": "code",
   "execution_count": null,
   "id": "4c66edaa",
   "metadata": {},
   "outputs": [],
   "source": [
    "from scipy.spatial.transform import Rotation\n",
    "init_T\n",
    "r_vec = Rotation.from_matrix(init_T[:3, :3]).as_rotvec()\n",
    "t_vec = init_T[:3, 3]\n",
    "r_vec, t_vec, init_T\n",
    "init_param = np.concatenate((r_vec, t_vec))\n",
    "init_param"
   ]
  },
  {
   "cell_type": "code",
   "execution_count": null,
   "id": "30a8a598",
   "metadata": {},
   "outputs": [],
   "source": [
    "T_w2s_opt, res = estimate_Tstoc(system_points, image_points, K, D, init_param)\n",
    "T_w2s_opt, res"
   ]
  },
  {
   "cell_type": "markdown",
   "id": "f945cc0d",
   "metadata": {},
   "source": [
    "### Project points in dynamic scene"
   ]
  },
  {
   "cell_type": "code",
   "execution_count": null,
   "id": "3657ae64",
   "metadata": {},
   "outputs": [],
   "source": [
    "marker_names = ['stereoatis:cam_right', 'stereoatis:cam_back', 'stereoatis:cam_left',\n",
    "                'box:top_right_Origin', 'box:bottom_right', 'box:bottom_left', 'box:top_left']\n",
    "projected_points = helpers.project_vicon_to_event_plane_dynamic(\n",
    "    marker_names, c3d_data, points_3d, marker_t, T_w2s_opt, Ts_world_to_system, K, cam_res, delay, e_ts, e_us, e_vs, period, visualize=True, D=D\n",
    ")"
   ]
  },
  {
   "cell_type": "markdown",
   "id": "58f95125",
   "metadata": {},
   "source": [
    "### Debug"
   ]
  },
  {
   "cell_type": "code",
   "execution_count": null,
   "id": "e1949f6f",
   "metadata": {},
   "outputs": [],
   "source": [
    "e_ts[-1]"
   ]
  },
  {
   "cell_type": "code",
   "execution_count": null,
   "id": "8153857d",
   "metadata": {},
   "outputs": [],
   "source": [
    "marker_t[-2]"
   ]
  },
  {
   "cell_type": "code",
   "execution_count": null,
   "id": "549a7f22",
   "metadata": {},
   "outputs": [],
   "source": [
    "Ts_system_to_camera = []"
   ]
  },
  {
   "cell_type": "code",
   "execution_count": null,
   "id": "d30d61bb",
   "metadata": {},
   "outputs": [],
   "source": [
    "Ts_system_to_camera.append(T_system_to_camera)"
   ]
  },
  {
   "cell_type": "code",
   "execution_count": null,
   "id": "71e1b657",
   "metadata": {},
   "outputs": [],
   "source": [
    "Ts_system_to_camera"
   ]
  },
  {
   "cell_type": "code",
   "execution_count": null,
   "id": "3b5ff513",
   "metadata": {},
   "outputs": [],
   "source": [
    "T_system_to_camera_ave = helpers.average_transforms(Ts_system_to_camera)\n",
    "T_system_to_camera_ave"
   ]
  },
  {
   "cell_type": "code",
   "execution_count": null,
   "id": "d3ad8779",
   "metadata": {},
   "outputs": [],
   "source": [
    "importlib.reload(helpers)\n",
    "T_system_to_camera_ave_no_outlier = helpers.average_transforms_with_outlier_removal(Ts_system_to_camera, 0.1)\n",
    "T_system_to_camera_ave_no_outlier"
   ]
  },
  {
   "cell_type": "code",
   "execution_count": null,
   "id": "8ec80bad",
   "metadata": {},
   "outputs": [],
   "source": [
    "marker_names = ['stereoatis:cam_right', 'stereoatis:cam_back', 'stereoatis:cam_left',\n",
    "                'box:top_right_Origin', 'box:bottom_right', 'box:bottom_left', 'box:top_left']\n",
    "projected_points = helpers.project_vicon_to_event_plane_dynamic(\n",
    "    marker_names, c3d_data, points_3d, marker_t, T_system_to_camera_ave_no_outlier, Ts_world_to_system, K, cam_res, delay, e_ts, e_us, e_vs, period, visualize=True, D=D\n",
    ")"
   ]
  },
  {
   "cell_type": "code",
   "execution_count": null,
   "id": "4831852a",
   "metadata": {},
   "outputs": [],
   "source": [
    "marker_names = ['stereoatis:cam_right', 'stereoatis:cam_back', 'stereoatis:cam_left',\n",
    "                'box:top_right_Origin', 'box:bottom_right', 'box:bottom_left', 'box:top_left']\n",
    "xyz = 1\n",
    "ps = helpers.marker_p(c3d_data.point_labels, points_3d.values(), marker_names[0], None)\n",
    "plt.plot(ps[:, xyz])\n",
    "ps = helpers.marker_p(c3d_data.point_labels, points_3d.values(), marker_names[1], None)\n",
    "plt.plot(ps[:, xyz])\n",
    "ps = helpers.marker_p(c3d_data.point_labels, points_3d.values(), marker_names[2], None)\n",
    "plt.plot(ps[:, xyz])"
   ]
  },
  {
   "cell_type": "code",
   "execution_count": null,
   "id": "0be20303",
   "metadata": {},
   "outputs": [],
   "source": [
    "tmp = [T[0, 3] for T in Ts_world_to_system]\n",
    "plt.plot(tmp)"
   ]
  }
 ],
 "metadata": {
  "kernelspec": {
   "display_name": "vicon-processing",
   "language": "python",
   "name": "python3"
  },
  "language_info": {
   "codemirror_mode": {
    "name": "ipython",
    "version": 3
   },
   "file_extension": ".py",
   "mimetype": "text/x-python",
   "name": "python",
   "nbconvert_exporter": "python",
   "pygments_lexer": "ipython3",
   "version": "3.10.12"
  }
 },
 "nbformat": 4,
 "nbformat_minor": 5
}
