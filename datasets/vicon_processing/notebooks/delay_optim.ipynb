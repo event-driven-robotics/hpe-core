{
 "cells": [
  {
   "cell_type": "code",
   "execution_count": 1,
   "metadata": {},
   "outputs": [],
   "source": [
    "import numpy as np\n",
    "import sys\n",
    "import matplotlib.pyplot as plt\n",
    "import matplotlib.animation\n",
    "import yaml\n",
    "import cv2\n",
    "from scipy.spatial.transform import Rotation\n",
    "from matplotlib.patches import Rectangle\n",
    "from tqdm import tqdm\n",
    "import argparse\n",
    "\n",
    "sys.path.append('/local_code/hpe-core/datasets/')\n",
    "\n",
    "from vicon_processing.src.projection import ProjectionHelper\n",
    "from vicon_processing.src.data_helpers import DvsLabeler, DvsHelper, C3dHelper\n",
    "from vicon_processing.src import vis_utils, utils"
   ]
  },
  {
   "cell_type": "code",
   "execution_count": 4,
   "metadata": {},
   "outputs": [],
   "source": [
    "def obj_delay(delay):\n",
    "    # import the DVS data\n",
    "    dvs_file_path = \"/hpe/Users/Stefano/hpe/vicon/side_f1/atis-d/\"\n",
    "    dvs_helper = DvsHelper(dvs_file_path)\n",
    "    # read the labeled 2d points\n",
    "    dvs_helper.read_points_labels(\"../scripts/config/side_labels.yml\");\n",
    "    # extract the time of the labeled points\n",
    "    print(dvs_helper.labeled_points)\n",
    "    labels_times = dvs_helper.labeled_points['times']\n",
    "\n",
    "    print(labels_times)\n",
    "    # labels_times = [0.0]\n",
    "    labels = list(dvs_helper.labeled_points['points'][0].keys())\n",
    "    print(labels)\n",
    "\n",
    "\n",
    "    # load c3d vicon data\n",
    "    c3d_file_path = \"/hpe/Users/Stefano/hpe/vicon/side_f1.c3d\"\n",
    "    c3d_helper = C3dHelper(c3d_file_path, delay=delay)\n",
    "    print(c3d_helper.reader.point_labels)\n",
    "    c3d_helper.reader.frame_count\n",
    "\n",
    "    vicon_labeled_frames = c3d_helper.get_frame_time(labels_times)\n",
    "    print(c3d_helper.frame_times)\n",
    "    vicon_points = c3d_helper.get_vicon_points(vicon_labeled_frames, labels)\n",
    "    vicon_points_mark = c3d_helper.transform_points_to_marker_frame(vicon_points)\n",
    "    # vicon_points_mark = vicon_points\n",
    "    print(vicon_labeled_frames)\n",
    "    c3d_helper.markers_T\n",
    "    print(f\"times from dvs labels: {dvs_helper.labeled_points['times']}\")\n",
    "    print(f\"times from vicon labels: {vicon_points_mark['times']}\")\n",
    "    dvs_helper.labeled_points['times']\n",
    "    vicon_points_mark['times']\n",
    "    proj_helper = ProjectionHelper(vicon_points_mark, dvs_helper.labeled_points)\n",
    "    proj_helper.import_camera_calbration(\"../scripts/config/temp_calib.txt\");\n",
    "    proj_helper.image_points\n",
    "\n",
    "    # find transform\n",
    "    T, result = proj_helper._find_R_t()\n",
    "    print(result)\n",
    "\n",
    "    return result.fun"
   ]
  },
  {
   "cell_type": "code",
   "execution_count": 5,
   "metadata": {},
   "outputs": [
    {
     "name": "stdout",
     "output_type": "stream",
     "text": [
      "no manual zero time found, using zero instead\n",
      "{'points': [{'P3:HEDO': {'x': 526, 'y': 140}, 'P3:LFOO': {'x': 595, 'y': 592}, 'P3:RFOO': {'x': 453, 'y': 581}, 'P3:RHNO': {'x': 426, 'y': 287}}, {'P3:HEDO': {'x': 570, 'y': 157}, 'P3:LFOO': {'x': 596, 'y': 599}, 'P3:RFOO': {'x': 503, 'y': 600}, 'P3:RHNO': {'x': 456, 'y': 300}}, {'P3:HEDO': {'x': 746, 'y': 178}, 'P3:LFOO': {'x': 797, 'y': 370}, 'P3:RFOO': {'x': 674, 'y': 637}, 'P3:RHNO': {'x': 771, 'y': 644}}, {'P3:HEDO': {'x': 832, 'y': 192}, 'P3:LFOO': {'x': 875, 'y': 643}, 'P3:RFOO': {'x': 774, 'y': 650}, 'P3:RHNO': {'x': 747, 'y': 425}}, {'P3:HEDO': {'x': 565, 'y': 157}, 'P3:LFOO': {'x': 604, 'y': 602}, 'P3:RFOO': {'x': 434, 'y': 604}, 'P3:RHNO': {'x': 443, 'y': 375}}], 'times': [0.1, 0.375, 0.6499999999999999, 0.9249999999999999, 1.2]}\n",
      "[0.1, 0.375, 0.6499999999999999, 0.9249999999999999, 1.2]\n",
      "['P3:HEDO', 'P3:LFOO', 'P3:RFOO', 'P3:RHNO']\n",
      "['camera:cam_right              ' 'camera:cam_back               '\n",
      " 'camera:cam_left               ' 'P3:PELO                       '\n",
      " 'P3:PELA                       ' 'P3:PELL                       '\n",
      " 'P3:PELP                       ' 'P3:LFEO                       '\n",
      " 'P3:LFEA                       ' 'P3:LFEL                       '\n",
      " 'P3:LFEP                       ' 'P3:LTIO                       '\n",
      " 'P3:LTIA                       ' 'P3:LTIL                       '\n",
      " 'P3:LTIP                       ' 'P3:LFOO                       '\n",
      " 'P3:LFOA                       ' 'P3:LFOL                       '\n",
      " 'P3:LFOP                       ' 'P3:LTOO                       '\n",
      " 'P3:LTOA                       ' 'P3:LTOL                       '\n",
      " 'P3:LTOP                       ' 'P3:RFEO                       '\n",
      " 'P3:RFEA                       ' 'P3:RFEL                       '\n",
      " 'P3:RFEP                       ' 'P3:RTIO                       '\n",
      " 'P3:RTIA                       ' 'P3:RTIL                       '\n",
      " 'P3:RTIP                       ' 'P3:RFOO                       '\n",
      " 'P3:RFOA                       ' 'P3:RFOL                       '\n",
      " 'P3:RFOP                       ' 'P3:RTOO                       '\n",
      " 'P3:RTOA                       ' 'P3:RTOL                       '\n",
      " 'P3:RTOP                       ' 'P3:HEDO                       '\n",
      " 'P3:HEDA                       ' 'P3:HEDL                       '\n",
      " 'P3:HEDP                       ' 'P3:LCLO                       '\n",
      " 'P3:LCLA                       ' 'P3:LCLL                       '\n",
      " 'P3:LCLP                       ' 'P3:RCLO                       '\n",
      " 'P3:RCLA                       ' 'P3:RCLL                       '\n",
      " 'P3:RCLP                       ' 'P3:TRXO                       '\n",
      " 'P3:TRXA                       ' 'P3:TRXL                       '\n",
      " 'P3:TRXP                       ' 'P3:LHUO                       '\n",
      " 'P3:LHUA                       ' 'P3:LHUL                       '\n",
      " 'P3:LHUP                       ' 'P3:LRAO                       '\n",
      " 'P3:LRAA                       ' 'P3:LRAL                       '\n",
      " 'P3:LRAP                       ' 'P3:RHUO                       '\n",
      " 'P3:RHUA                       ' 'P3:RHUL                       '\n",
      " 'P3:RHUP                       ' 'P3:RRAO                       '\n",
      " 'P3:RRAA                       ' 'P3:RRAL                       '\n",
      " 'P3:RRAP                       ' 'P3:RHNO                       '\n",
      " 'P3:RHNA                       ' 'P3:RHNL                       '\n",
      " 'P3:RHNP                       ' '*75                           '\n",
      " '*76                           ' '*77                           '\n",
      " '*78                           ' '*79                           '\n",
      " '*80                           ' '*81                           '\n",
      " 'P3:LHipAngles                 ' 'P3:LKneeAngles                '\n",
      " 'P3:LAbsAnkleAngle             ' 'P3:LAnkleAngles               '\n",
      " 'P3:RHipAngles                 ' 'P3:RKneeAngles                '\n",
      " 'P3:RAnkleAngles               ' 'P3:RAbsAnkleAngle             '\n",
      " 'P3:RNeckAngles                ' 'P3:LNeckAngles                '\n",
      " 'P3:RSpineAngles               ' 'P3:LSpineAngles               '\n",
      " 'P3:LShoulderAngles            ' 'P3:LElbowAngles               '\n",
      " 'P3:RShoulderAngles            ' 'P3:RElbowAngles               '\n",
      " 'P3:RWristAngles               ']\n",
      "[-0.2        -0.18999415 -0.1799883  ... 16.8899883  16.89999415\n",
      " 16.91      ]\n"
     ]
    },
    {
     "name": "stderr",
     "output_type": "stream",
     "text": [
      "/usr/local/lib/python3.10/dist-packages/c3d/c3d.py:1219: UserWarning: No analog data found in file.\n",
      "  warnings.warn('No analog data found in file.')\n"
     ]
    },
    {
     "name": "stdout",
     "output_type": "stream",
     "text": [
      "[30, 58, 85, 113, 140]\n",
      "times from dvs labels: [0.1, 0.375, 0.6499999999999999, 0.9249999999999999, 1.2]\n",
      "times from vicon labels: [0.10017544 0.38033918 0.65049708 0.93066082 1.20081871]\n",
      "Number of 3d points: 20\n",
      "Number of image points: 20\n",
      " message: Optimization terminated successfully\n",
      " success: True\n",
      "  status: 0\n",
      "     fun: 1555.3650837887874\n",
      "       x: [-1.727e-01  5.453e-01 -1.856e+00 -1.637e+01  5.911e+02\n",
      "            1.153e+02]\n",
      "     nit: 99\n",
      "     jac: [-8.555e+01 -3.834e+02 -2.333e+01 -1.194e-01  2.129e-02\n",
      "            1.680e-02]\n",
      "    nfev: 814\n",
      "    njev: 99\n",
      " message: Optimization terminated successfully\n",
      " success: True\n",
      "  status: 0\n",
      "     fun: 1555.3650837887874\n",
      "       x: [-1.727e-01  5.453e-01 -1.856e+00 -1.637e+01  5.911e+02\n",
      "            1.153e+02]\n",
      "     nit: 99\n",
      "     jac: [-8.555e+01 -3.834e+02 -2.333e+01 -1.194e-01  2.129e-02\n",
      "            1.680e-02]\n",
      "    nfev: 814\n",
      "    njev: 99\n"
     ]
    },
    {
     "data": {
      "text/plain": [
       "1555.3650837887874"
      ]
     },
     "execution_count": 5,
     "metadata": {},
     "output_type": "execute_result"
    }
   ],
   "source": [
    "res = []\n",
    "for d in np.linspace(-0.5, 0.5, 10):\n"
   ]
  },
  {
   "cell_type": "code",
   "execution_count": null,
   "metadata": {},
   "outputs": [],
   "source": []
  }
 ],
 "metadata": {
  "kernelspec": {
   "display_name": "Python 3",
   "language": "python",
   "name": "python3"
  },
  "language_info": {
   "codemirror_mode": {
    "name": "ipython",
    "version": 3
   },
   "file_extension": ".py",
   "mimetype": "text/x-python",
   "name": "python",
   "nbconvert_exporter": "python",
   "pygments_lexer": "ipython3",
   "version": "3.10.12"
  }
 },
 "nbformat": 4,
 "nbformat_minor": 2
}
