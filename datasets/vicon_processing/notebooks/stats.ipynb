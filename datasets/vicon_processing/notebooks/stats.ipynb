{
 "cells": [
  {
   "cell_type": "code",
   "execution_count": 1,
   "metadata": {},
   "outputs": [],
   "source": [
    "import sys\n",
    "import os\n",
    "\n",
    "import numpy as np\n",
    "import matplotlib as mpl\n",
    "import matplotlib.pyplot as plt\n",
    "import cv2\n",
    "\n",
    "from tqdm import tqdm\n",
    "import argparse\n",
    "import yaml\n",
    "from spacepy import pycdf"
   ]
  },
  {
   "cell_type": "code",
   "execution_count": 2,
   "metadata": {},
   "outputs": [],
   "source": [
    "sys.path.append('/home/schiavazza/code/hpe/hpe-core/datasets/')"
   ]
  },
  {
   "cell_type": "code",
   "execution_count": 3,
   "metadata": {},
   "outputs": [
    {
     "name": "stderr",
     "output_type": "stream",
     "text": [
      "/usr/lib/python3/dist-packages/scipy/__init__.py:146: UserWarning: A NumPy version >=1.17.3 and <1.25.0 is required for this version of SciPy (detected version 1.26.2\n",
      "  warnings.warn(f\"A NumPy version >={np_minversion} and <{np_maxversion}\"\n"
     ]
    }
   ],
   "source": [
    "from vicon_processing.src.projection import ProjectionHelper\n",
    "from vicon_processing.src.data_helpers import DvsLabeler, DvsHelper, C3dHelper\n",
    "from vicon_processing.src import vis_utils, utils"
   ]
  },
  {
   "cell_type": "code",
   "execution_count": 4,
   "metadata": {},
   "outputs": [],
   "source": [
    "def measure_error(sequence_path, delay, dynamic=True):\n",
    "    head, sequence_name = os.path.split(sequence_path)\n",
    "\n",
    "    if dynamic:\n",
    "        dvs_file_path = os.path.join(sequence_path, \"atis-d\")\n",
    "        annotated_path = os.path.join(sequence_path, \"atis_d_frames/labeled_points.yml\")\n",
    "        calib_path = os.path.join(head, \"calib-d.txt\")\n",
    "        extrinisc_path = os.path.join(head, \"extrinsic_d.npy\")\n",
    "    else:\n",
    "        dvs_file_path = os.path.join(sequence_path, \"atis-s\")\n",
    "        annotated_path = os.path.join(sequence_path, \"atis_s_frames/labeled_points.yml\")\n",
    "        calib_path = os.path.join(head, \"calib-d.txt\")\n",
    "        extrinisc_path = os.path.join(head, \"extrinsic_s.npy\")\n",
    "\n",
    "    dvs_helper = DvsHelper(dvs_file_path)\n",
    "    # read the labeled 2d points\n",
    "    dvs_helper.read_points_labels(annotated_path);\n",
    "    # extract the time of the labeled points\n",
    "    labels_times = dvs_helper.labeled_points['times'][:]\n",
    "    \n",
    "    c3d_file_path = os.path.join(sequence_path, \"../\" + sequence_name + \".c3d\")\n",
    "    c3d_helper = C3dHelper(c3d_file_path, delay=delay, camera_markers=dynamic, filter_camera_markers=True)\n",
    "\n",
    "    vicon_points = c3d_helper.get_vicon_points_interpolated(dvs_helper.labeled_points)\n",
    "    vicon_points_mark = c3d_helper.transform_points_to_marker_frame(vicon_points)\n",
    "    # vicon_points_mark = vicon_points\n",
    "    dvs_helper.labeled_points['times']\n",
    "    vicon_points_mark['times']\n",
    "    proj_helper = ProjectionHelper(vicon_points_mark, dvs_helper.labeled_points)\n",
    "    proj_helper.import_camera_calbration(calib_path);\n",
    "    proj_helper.image_points\n",
    "\n",
    "    T = np.load(extrinisc_path)\n",
    "\n",
    "    error = proj_helper.measure_error(T)\n",
    "    # print(f\"measured error for d:{delay} -> {error}\")\n",
    "    return error"
   ]
  },
  {
   "cell_type": "code",
   "execution_count": 5,
   "metadata": {},
   "outputs": [
    {
     "name": "stderr",
     "output_type": "stream",
     "text": [
      "0it [00:00, ?it/s]/home/schiavazza/.local/lib/python3.10/site-packages/c3d/c3d.py:1219: UserWarning: No analog data found in file.\n",
      "  warnings.warn('No analog data found in file.')\n"
     ]
    },
    {
     "name": "stdout",
     "output_type": "stream",
     "text": [
      "Selected the option to not use the markers on the camera, the identity transformation will be used instead\n"
     ]
    },
    {
     "name": "stderr",
     "output_type": "stream",
     "text": [
      "3it [00:02,  1.07it/s]"
     ]
    },
    {
     "name": "stdout",
     "output_type": "stream",
     "text": [
      "Selected the option to not use the markers on the camera, the identity transformation will be used instead\n"
     ]
    },
    {
     "name": "stderr",
     "output_type": "stream",
     "text": [
      "10it [00:05,  1.97it/s]"
     ]
    },
    {
     "name": "stdout",
     "output_type": "stream",
     "text": [
      "Selected the option to not use the markers on the camera, the identity transformation will be used instead\n"
     ]
    },
    {
     "name": "stderr",
     "output_type": "stream",
     "text": [
      "17it [00:08,  2.27it/s]"
     ]
    },
    {
     "name": "stdout",
     "output_type": "stream",
     "text": [
      "Selected the option to not use the markers on the camera, the identity transformation will be used instead\n"
     ]
    },
    {
     "name": "stderr",
     "output_type": "stream",
     "text": [
      "24it [00:10,  2.38it/s]"
     ]
    },
    {
     "name": "stdout",
     "output_type": "stream",
     "text": [
      "Selected the option to not use the markers on the camera, the identity transformation will be used instead\n"
     ]
    },
    {
     "name": "stderr",
     "output_type": "stream",
     "text": [
      "31it [00:13,  2.45it/s]"
     ]
    },
    {
     "name": "stdout",
     "output_type": "stream",
     "text": [
      "Selected the option to not use the markers on the camera, the identity transformation will be used instead\n"
     ]
    },
    {
     "name": "stderr",
     "output_type": "stream",
     "text": [
      "38it [00:16,  2.53it/s]"
     ]
    },
    {
     "name": "stdout",
     "output_type": "stream",
     "text": [
      "Selected the option to not use the markers on the camera, the identity transformation will be used instead\n"
     ]
    },
    {
     "name": "stderr",
     "output_type": "stream",
     "text": [
      "45it [00:18,  2.59it/s]"
     ]
    },
    {
     "name": "stdout",
     "output_type": "stream",
     "text": [
      "Selected the option to not use the markers on the camera, the identity transformation will be used instead\n"
     ]
    },
    {
     "name": "stderr",
     "output_type": "stream",
     "text": [
      "52it [00:21,  2.67it/s]"
     ]
    },
    {
     "name": "stdout",
     "output_type": "stream",
     "text": [
      "Selected the option to not use the markers on the camera, the identity transformation will be used instead\n"
     ]
    },
    {
     "name": "stderr",
     "output_type": "stream",
     "text": [
      "59it [00:23,  2.68it/s]"
     ]
    },
    {
     "name": "stdout",
     "output_type": "stream",
     "text": [
      "Selected the option to not use the markers on the camera, the identity transformation will be used instead\n"
     ]
    },
    {
     "name": "stderr",
     "output_type": "stream",
     "text": [
      "66it [00:26,  2.72it/s]"
     ]
    },
    {
     "name": "stdout",
     "output_type": "stream",
     "text": [
      "Selected the option to not use the markers on the camera, the identity transformation will be used instead\n"
     ]
    },
    {
     "name": "stderr",
     "output_type": "stream",
     "text": [
      "73it [00:28,  2.73it/s]"
     ]
    },
    {
     "name": "stdout",
     "output_type": "stream",
     "text": [
      "Selected the option to not use the markers on the camera, the identity transformation will be used instead\n"
     ]
    },
    {
     "name": "stderr",
     "output_type": "stream",
     "text": [
      "80it [00:31,  2.72it/s]"
     ]
    },
    {
     "name": "stdout",
     "output_type": "stream",
     "text": [
      "Selected the option to not use the markers on the camera, the identity transformation will be used instead\n"
     ]
    },
    {
     "name": "stderr",
     "output_type": "stream",
     "text": [
      "87it [00:33,  2.75it/s]"
     ]
    },
    {
     "name": "stdout",
     "output_type": "stream",
     "text": [
      "Selected the option to not use the markers on the camera, the identity transformation will be used instead\n"
     ]
    },
    {
     "name": "stderr",
     "output_type": "stream",
     "text": [
      "94it [00:36,  2.73it/s]"
     ]
    },
    {
     "name": "stdout",
     "output_type": "stream",
     "text": [
      "Selected the option to not use the markers on the camera, the identity transformation will be used instead\n"
     ]
    },
    {
     "name": "stderr",
     "output_type": "stream",
     "text": [
      "101it [00:39,  2.65it/s]"
     ]
    },
    {
     "name": "stdout",
     "output_type": "stream",
     "text": [
      "Selected the option to not use the markers on the camera, the identity transformation will be used instead\n"
     ]
    },
    {
     "name": "stderr",
     "output_type": "stream",
     "text": [
      "108it [00:42,  2.57it/s]"
     ]
    },
    {
     "name": "stdout",
     "output_type": "stream",
     "text": [
      "Selected the option to not use the markers on the camera, the identity transformation will be used instead\n"
     ]
    },
    {
     "name": "stderr",
     "output_type": "stream",
     "text": [
      "126it [00:45,  3.66it/s]"
     ]
    },
    {
     "name": "stdout",
     "output_type": "stream",
     "text": [
      "Selected the option to not use the markers on the camera, the identity transformation will be used instead\n"
     ]
    },
    {
     "name": "stderr",
     "output_type": "stream",
     "text": [
      "133it [00:48,  3.26it/s]"
     ]
    },
    {
     "name": "stdout",
     "output_type": "stream",
     "text": [
      "Selected the option to not use the markers on the camera, the identity transformation will be used instead\n"
     ]
    },
    {
     "name": "stderr",
     "output_type": "stream",
     "text": [
      "140it [00:51,  2.98it/s]"
     ]
    },
    {
     "name": "stdout",
     "output_type": "stream",
     "text": [
      "Selected the option to not use the markers on the camera, the identity transformation will be used instead\n"
     ]
    },
    {
     "name": "stderr",
     "output_type": "stream",
     "text": [
      "147it [00:54,  2.71it/s]"
     ]
    },
    {
     "name": "stdout",
     "output_type": "stream",
     "text": [
      "Selected the option to not use the markers on the camera, the identity transformation will be used instead\n"
     ]
    },
    {
     "name": "stderr",
     "output_type": "stream",
     "text": [
      "155it [00:57,  2.68it/s]"
     ]
    },
    {
     "name": "stdout",
     "output_type": "stream",
     "text": [
      "Selected the option to not use the markers on the camera, the identity transformation will be used instead\n"
     ]
    },
    {
     "name": "stderr",
     "output_type": "stream",
     "text": [
      "162it [01:00,  2.59it/s]"
     ]
    },
    {
     "name": "stdout",
     "output_type": "stream",
     "text": [
      "Selected the option to not use the markers on the camera, the identity transformation will be used instead\n"
     ]
    },
    {
     "name": "stderr",
     "output_type": "stream",
     "text": [
      "170it [01:03,  2.56it/s]"
     ]
    },
    {
     "name": "stdout",
     "output_type": "stream",
     "text": [
      "Selected the option to not use the markers on the camera, the identity transformation will be used instead\n"
     ]
    },
    {
     "name": "stderr",
     "output_type": "stream",
     "text": [
      "177it [01:06,  2.59it/s]"
     ]
    },
    {
     "name": "stdout",
     "output_type": "stream",
     "text": [
      "Selected the option to not use the markers on the camera, the identity transformation will be used instead\n"
     ]
    },
    {
     "name": "stderr",
     "output_type": "stream",
     "text": [
      "186it [01:09,  2.75it/s]"
     ]
    },
    {
     "name": "stdout",
     "output_type": "stream",
     "text": [
      "Selected the option to not use the markers on the camera, the identity transformation will be used instead\n"
     ]
    },
    {
     "name": "stderr",
     "output_type": "stream",
     "text": [
      "193it [01:11,  2.74it/s]"
     ]
    },
    {
     "name": "stdout",
     "output_type": "stream",
     "text": [
      "Selected the option to not use the markers on the camera, the identity transformation will be used instead\n"
     ]
    },
    {
     "name": "stderr",
     "output_type": "stream",
     "text": [
      "200it [01:14,  2.72it/s]"
     ]
    },
    {
     "name": "stdout",
     "output_type": "stream",
     "text": [
      "Selected the option to not use the markers on the camera, the identity transformation will be used instead\n"
     ]
    },
    {
     "name": "stderr",
     "output_type": "stream",
     "text": [
      "207it [01:16,  2.71it/s]"
     ]
    },
    {
     "name": "stdout",
     "output_type": "stream",
     "text": [
      "Selected the option to not use the markers on the camera, the identity transformation will be used instead\n"
     ]
    },
    {
     "name": "stderr",
     "output_type": "stream",
     "text": [
      "214it [01:19,  2.71it/s]"
     ]
    },
    {
     "name": "stdout",
     "output_type": "stream",
     "text": [
      "Selected the option to not use the markers on the camera, the identity transformation will be used instead\n"
     ]
    },
    {
     "name": "stderr",
     "output_type": "stream",
     "text": [
      "221it [01:22,  2.70it/s]"
     ]
    },
    {
     "name": "stdout",
     "output_type": "stream",
     "text": [
      "Selected the option to not use the markers on the camera, the identity transformation will be used instead\n"
     ]
    },
    {
     "name": "stderr",
     "output_type": "stream",
     "text": [
      "228it [01:24,  2.71it/s]"
     ]
    },
    {
     "name": "stdout",
     "output_type": "stream",
     "text": [
      "Selected the option to not use the markers on the camera, the identity transformation will be used instead\n"
     ]
    },
    {
     "name": "stderr",
     "output_type": "stream",
     "text": [
      "242it [01:27,  3.52it/s]"
     ]
    },
    {
     "name": "stdout",
     "output_type": "stream",
     "text": [
      "Selected the option to not use the markers on the camera, the identity transformation will be used instead\n"
     ]
    },
    {
     "name": "stderr",
     "output_type": "stream",
     "text": [
      "434it [01:35, 22.83it/s]"
     ]
    },
    {
     "name": "stdout",
     "output_type": "stream",
     "text": [
      "Selected the option to not use the markers on the camera, the identity transformation will be used instead\n"
     ]
    },
    {
     "name": "stderr",
     "output_type": "stream",
     "text": [
      "518it [01:37, 25.35it/s]"
     ]
    },
    {
     "name": "stdout",
     "output_type": "stream",
     "text": [
      "Selected the option to not use the markers on the camera, the identity transformation will be used instead\n"
     ]
    },
    {
     "name": "stderr",
     "output_type": "stream",
     "text": [
      "527it [01:40, 18.35it/s]"
     ]
    },
    {
     "name": "stdout",
     "output_type": "stream",
     "text": [
      "Selected the option to not use the markers on the camera, the identity transformation will be used instead\n"
     ]
    },
    {
     "name": "stderr",
     "output_type": "stream",
     "text": [
      "551it [01:43, 14.55it/s]"
     ]
    },
    {
     "name": "stdout",
     "output_type": "stream",
     "text": [
      "Selected the option to not use the markers on the camera, the identity transformation will be used instead\n"
     ]
    },
    {
     "name": "stderr",
     "output_type": "stream",
     "text": [
      "579it [01:49,  9.63it/s]"
     ]
    },
    {
     "name": "stdout",
     "output_type": "stream",
     "text": [
      "'camera:cam_back'\n",
      "Selected the option to not use the markers on the camera, the identity transformation will be used instead\n"
     ]
    },
    {
     "name": "stderr",
     "output_type": "stream",
     "text": [
      "585it [01:51,  8.15it/s]"
     ]
    },
    {
     "name": "stdout",
     "output_type": "stream",
     "text": [
      "Selected the option to not use the markers on the camera, the identity transformation will be used instead\n"
     ]
    },
    {
     "name": "stderr",
     "output_type": "stream",
     "text": [
      "609it [01:54,  8.10it/s]"
     ]
    },
    {
     "name": "stdout",
     "output_type": "stream",
     "text": [
      "Selected the option to not use the markers on the camera, the identity transformation will be used instead\n"
     ]
    },
    {
     "name": "stderr",
     "output_type": "stream",
     "text": [
      "618it [01:57,  6.51it/s]"
     ]
    },
    {
     "name": "stdout",
     "output_type": "stream",
     "text": [
      "Selected the option to not use the markers on the camera, the identity transformation will be used instead\n"
     ]
    },
    {
     "name": "stderr",
     "output_type": "stream",
     "text": [
      "627it [01:59,  6.51it/s]"
     ]
    },
    {
     "name": "stdout",
     "output_type": "stream",
     "text": [
      "Selected the option to not use the markers on the camera, the identity transformation will be used instead\n"
     ]
    },
    {
     "name": "stderr",
     "output_type": "stream",
     "text": [
      "648it [02:00,  8.36it/s]"
     ]
    },
    {
     "name": "stdout",
     "output_type": "stream",
     "text": [
      "Selected the option to not use the markers on the camera, the identity transformation will be used instead\n"
     ]
    },
    {
     "name": "stderr",
     "output_type": "stream",
     "text": [
      "663it [02:03,  7.32it/s]"
     ]
    },
    {
     "name": "stdout",
     "output_type": "stream",
     "text": [
      "Selected the option to not use the markers on the camera, the identity transformation will be used instead\n",
      "Selected the option to not use the markers on the camera, the identity transformation will be used instead\n"
     ]
    },
    {
     "name": "stderr",
     "output_type": "stream",
     "text": [
      "668it [02:05,  5.26it/s]"
     ]
    },
    {
     "name": "stdout",
     "output_type": "stream",
     "text": [
      "'camera:cam_back'\n",
      "Selected the option to not use the markers on the camera, the identity transformation will be used instead\n"
     ]
    },
    {
     "name": "stderr",
     "output_type": "stream",
     "text": [
      "676it [02:08,  4.29it/s]"
     ]
    },
    {
     "name": "stdout",
     "output_type": "stream",
     "text": [
      "Selected the option to not use the markers on the camera, the identity transformation will be used instead\n"
     ]
    },
    {
     "name": "stderr",
     "output_type": "stream",
     "text": [
      "685it [02:11,  3.94it/s]"
     ]
    },
    {
     "name": "stdout",
     "output_type": "stream",
     "text": [
      "Selected the option to not use the markers on the camera, the identity transformation will be used instead\n"
     ]
    },
    {
     "name": "stderr",
     "output_type": "stream",
     "text": [
      "694it [02:13,  4.00it/s]"
     ]
    },
    {
     "name": "stdout",
     "output_type": "stream",
     "text": [
      "Selected the option to not use the markers on the camera, the identity transformation will be used instead\n"
     ]
    },
    {
     "name": "stderr",
     "output_type": "stream",
     "text": [
      "703it [02:14,  4.66it/s]"
     ]
    },
    {
     "name": "stdout",
     "output_type": "stream",
     "text": [
      "Selected the option to not use the markers on the camera, the identity transformation will be used instead\n"
     ]
    },
    {
     "name": "stderr",
     "output_type": "stream",
     "text": [
      "712it [02:17,  4.12it/s]"
     ]
    },
    {
     "name": "stdout",
     "output_type": "stream",
     "text": [
      "Selected the option to not use the markers on the camera, the identity transformation will be used instead\n"
     ]
    },
    {
     "name": "stderr",
     "output_type": "stream",
     "text": [
      "721it [02:20,  3.93it/s]"
     ]
    },
    {
     "name": "stdout",
     "output_type": "stream",
     "text": [
      "Selected the option to not use the markers on the camera, the identity transformation will be used instead\n"
     ]
    },
    {
     "name": "stderr",
     "output_type": "stream",
     "text": [
      "744it [02:23,  5.35it/s]"
     ]
    },
    {
     "name": "stdout",
     "output_type": "stream",
     "text": [
      "Selected the option to not use the markers on the camera, the identity transformation will be used instead\n"
     ]
    },
    {
     "name": "stderr",
     "output_type": "stream",
     "text": [
      "751it [02:26,  4.26it/s]"
     ]
    },
    {
     "name": "stdout",
     "output_type": "stream",
     "text": [
      "Selected the option to not use the markers on the camera, the identity transformation will be used instead\n"
     ]
    },
    {
     "name": "stderr",
     "output_type": "stream",
     "text": [
      "760it [02:29,  3.94it/s]"
     ]
    },
    {
     "name": "stdout",
     "output_type": "stream",
     "text": [
      "Selected the option to not use the markers on the camera, the identity transformation will be used instead\n"
     ]
    },
    {
     "name": "stderr",
     "output_type": "stream",
     "text": [
      "769it [02:32,  3.63it/s]"
     ]
    },
    {
     "name": "stdout",
     "output_type": "stream",
     "text": [
      "Selected the option to not use the markers on the camera, the identity transformation will be used instead\n"
     ]
    },
    {
     "name": "stderr",
     "output_type": "stream",
     "text": [
      "778it [02:35,  3.43it/s]"
     ]
    },
    {
     "name": "stdout",
     "output_type": "stream",
     "text": [
      "Selected the option to not use the markers on the camera, the identity transformation will be used instead\n"
     ]
    },
    {
     "name": "stderr",
     "output_type": "stream",
     "text": [
      "896it [02:37, 15.49it/s]"
     ]
    },
    {
     "name": "stdout",
     "output_type": "stream",
     "text": [
      "Selected the option to not use the markers on the camera, the identity transformation will be used instead\n"
     ]
    },
    {
     "name": "stderr",
     "output_type": "stream",
     "text": [
      "912it [02:40, 12.34it/s]"
     ]
    },
    {
     "name": "stdout",
     "output_type": "stream",
     "text": [
      "Selected the option to not use the markers on the camera, the identity transformation will be used instead\n"
     ]
    },
    {
     "name": "stderr",
     "output_type": "stream",
     "text": [
      "921it [02:43,  9.68it/s]"
     ]
    },
    {
     "name": "stdout",
     "output_type": "stream",
     "text": [
      "Selected the option to not use the markers on the camera, the identity transformation will be used instead\n"
     ]
    },
    {
     "name": "stderr",
     "output_type": "stream",
     "text": [
      "930it [02:46,  7.79it/s]"
     ]
    },
    {
     "name": "stdout",
     "output_type": "stream",
     "text": [
      "Selected the option to not use the markers on the camera, the identity transformation will be used instead\n"
     ]
    },
    {
     "name": "stderr",
     "output_type": "stream",
     "text": [
      "939it [02:48,  6.61it/s]"
     ]
    },
    {
     "name": "stdout",
     "output_type": "stream",
     "text": [
      "Selected the option to not use the markers on the camera, the identity transformation will be used instead\n"
     ]
    },
    {
     "name": "stderr",
     "output_type": "stream",
     "text": [
      "957it [02:53,  5.06it/s]"
     ]
    },
    {
     "name": "stdout",
     "output_type": "stream",
     "text": [
      "Selected the option to not use the markers on the camera, the identity transformation will be used instead\n"
     ]
    },
    {
     "name": "stderr",
     "output_type": "stream",
     "text": [
      "962it [02:56,  4.08it/s]"
     ]
    },
    {
     "name": "stdout",
     "output_type": "stream",
     "text": [
      "Selected the option to not use the markers on the camera, the identity transformation will be used instead\n"
     ]
    },
    {
     "name": "stderr",
     "output_type": "stream",
     "text": [
      "971it [02:59,  3.88it/s]"
     ]
    },
    {
     "name": "stdout",
     "output_type": "stream",
     "text": [
      "Selected the option to not use the markers on the camera, the identity transformation will be used instead\n"
     ]
    },
    {
     "name": "stderr",
     "output_type": "stream",
     "text": [
      "980it [03:02,  3.67it/s]"
     ]
    },
    {
     "name": "stdout",
     "output_type": "stream",
     "text": [
      "Selected the option to not use the markers on the camera, the identity transformation will be used instead\n"
     ]
    },
    {
     "name": "stderr",
     "output_type": "stream",
     "text": [
      "989it [03:04,  3.55it/s]"
     ]
    },
    {
     "name": "stdout",
     "output_type": "stream",
     "text": [
      "Selected the option to not use the markers on the camera, the identity transformation will be used instead\n"
     ]
    },
    {
     "name": "stderr",
     "output_type": "stream",
     "text": [
      "998it [03:08,  3.27it/s]"
     ]
    },
    {
     "name": "stdout",
     "output_type": "stream",
     "text": [
      "Selected the option to not use the markers on the camera, the identity transformation will be used instead\n"
     ]
    },
    {
     "name": "stderr",
     "output_type": "stream",
     "text": [
      "1007it [03:11,  3.17it/s]"
     ]
    },
    {
     "name": "stdout",
     "output_type": "stream",
     "text": [
      "Selected the option to not use the markers on the camera, the identity transformation will be used instead\n"
     ]
    },
    {
     "name": "stderr",
     "output_type": "stream",
     "text": [
      "1016it [03:14,  3.04it/s]"
     ]
    },
    {
     "name": "stdout",
     "output_type": "stream",
     "text": [
      "Selected the option to not use the markers on the camera, the identity transformation will be used instead\n"
     ]
    },
    {
     "name": "stderr",
     "output_type": "stream",
     "text": [
      "1025it [03:17,  3.08it/s]"
     ]
    },
    {
     "name": "stdout",
     "output_type": "stream",
     "text": [
      "Selected the option to not use the markers on the camera, the identity transformation will be used instead\n"
     ]
    },
    {
     "name": "stderr",
     "output_type": "stream",
     "text": [
      "1034it [03:19,  3.16it/s]"
     ]
    },
    {
     "name": "stdout",
     "output_type": "stream",
     "text": [
      "Selected the option to not use the markers on the camera, the identity transformation will be used instead\n"
     ]
    },
    {
     "name": "stderr",
     "output_type": "stream",
     "text": [
      "1043it [03:22,  3.22it/s]"
     ]
    },
    {
     "name": "stdout",
     "output_type": "stream",
     "text": [
      "Selected the option to not use the markers on the camera, the identity transformation will be used instead\n"
     ]
    },
    {
     "name": "stderr",
     "output_type": "stream",
     "text": [
      "1052it [03:25,  3.27it/s]"
     ]
    },
    {
     "name": "stdout",
     "output_type": "stream",
     "text": [
      "Selected the option to not use the markers on the camera, the identity transformation will be used instead\n"
     ]
    },
    {
     "name": "stderr",
     "output_type": "stream",
     "text": [
      "1061it [03:27,  3.31it/s]"
     ]
    },
    {
     "name": "stdout",
     "output_type": "stream",
     "text": [
      "Selected the option to not use the markers on the camera, the identity transformation will be used instead\n"
     ]
    },
    {
     "name": "stderr",
     "output_type": "stream",
     "text": [
      "1070it [03:30,  3.28it/s]"
     ]
    },
    {
     "name": "stdout",
     "output_type": "stream",
     "text": [
      "Selected the option to not use the markers on the camera, the identity transformation will be used instead\n"
     ]
    },
    {
     "name": "stderr",
     "output_type": "stream",
     "text": [
      "1079it [03:33,  3.35it/s]"
     ]
    },
    {
     "name": "stdout",
     "output_type": "stream",
     "text": [
      "Selected the option to not use the markers on the camera, the identity transformation will be used instead\n"
     ]
    },
    {
     "name": "stderr",
     "output_type": "stream",
     "text": [
      "1088it [03:35,  3.32it/s]"
     ]
    },
    {
     "name": "stdout",
     "output_type": "stream",
     "text": [
      "Selected the option to not use the markers on the camera, the identity transformation will be used instead\n"
     ]
    },
    {
     "name": "stderr",
     "output_type": "stream",
     "text": [
      "1097it [03:36,  4.21it/s]"
     ]
    },
    {
     "name": "stdout",
     "output_type": "stream",
     "text": [
      "Selected the option to not use the markers on the camera, the identity transformation will be used instead\n"
     ]
    },
    {
     "name": "stderr",
     "output_type": "stream",
     "text": [
      "1104it [03:39,  3.49it/s]"
     ]
    },
    {
     "name": "stdout",
     "output_type": "stream",
     "text": [
      "Selected the option to not use the markers on the camera, the identity transformation will be used instead\n"
     ]
    },
    {
     "name": "stderr",
     "output_type": "stream",
     "text": [
      "1113it [03:43,  3.14it/s]"
     ]
    },
    {
     "name": "stdout",
     "output_type": "stream",
     "text": [
      "Selected the option to not use the markers on the camera, the identity transformation will be used instead\n"
     ]
    },
    {
     "name": "stderr",
     "output_type": "stream",
     "text": [
      "1131it [03:46,  4.40it/s]"
     ]
    },
    {
     "name": "stdout",
     "output_type": "stream",
     "text": [
      "Selected the option to not use the markers on the camera, the identity transformation will be used instead\n",
      "[Errno 2] No such file or directory: '/home/schiavazza/data/hpe/vicon_dataset/processed/zhichao/box_s1/atis_d_frames/labeled_points.yml'\n",
      "Selected the option to not use the markers on the camera, the identity transformation will be used instead\n"
     ]
    },
    {
     "name": "stderr",
     "output_type": "stream",
     "text": [
      "1140it [03:47,  4.95it/s]"
     ]
    },
    {
     "name": "stdout",
     "output_type": "stream",
     "text": [
      "Selected the option to not use the markers on the camera, the identity transformation will be used instead\n"
     ]
    },
    {
     "name": "stderr",
     "output_type": "stream",
     "text": [
      "1149it [03:50,  4.24it/s]"
     ]
    },
    {
     "name": "stdout",
     "output_type": "stream",
     "text": [
      "Selected the option to not use the markers on the camera, the identity transformation will be used instead\n"
     ]
    },
    {
     "name": "stderr",
     "output_type": "stream",
     "text": [
      "1158it [03:53,  3.80it/s]"
     ]
    },
    {
     "name": "stdout",
     "output_type": "stream",
     "text": [
      "Selected the option to not use the markers on the camera, the identity transformation will be used instead\n"
     ]
    },
    {
     "name": "stderr",
     "output_type": "stream",
     "text": [
      "1167it [03:56,  3.63it/s]"
     ]
    },
    {
     "name": "stdout",
     "output_type": "stream",
     "text": [
      "Selected the option to not use the markers on the camera, the identity transformation will be used instead\n"
     ]
    },
    {
     "name": "stderr",
     "output_type": "stream",
     "text": [
      "1176it [03:59,  3.36it/s]"
     ]
    },
    {
     "name": "stdout",
     "output_type": "stream",
     "text": [
      "Selected the option to not use the markers on the camera, the identity transformation will be used instead\n"
     ]
    },
    {
     "name": "stderr",
     "output_type": "stream",
     "text": [
      "1185it [04:02,  3.27it/s]"
     ]
    },
    {
     "name": "stdout",
     "output_type": "stream",
     "text": [
      "Selected the option to not use the markers on the camera, the identity transformation will be used instead\n"
     ]
    },
    {
     "name": "stderr",
     "output_type": "stream",
     "text": [
      "1194it [04:05,  3.21it/s]"
     ]
    },
    {
     "name": "stdout",
     "output_type": "stream",
     "text": [
      "Selected the option to not use the markers on the camera, the identity transformation will be used instead\n"
     ]
    },
    {
     "name": "stderr",
     "output_type": "stream",
     "text": [
      "1203it [04:07,  3.22it/s]"
     ]
    },
    {
     "name": "stdout",
     "output_type": "stream",
     "text": [
      "Selected the option to not use the markers on the camera, the identity transformation will be used instead\n"
     ]
    },
    {
     "name": "stderr",
     "output_type": "stream",
     "text": [
      "1212it [04:10,  3.26it/s]"
     ]
    },
    {
     "name": "stdout",
     "output_type": "stream",
     "text": [
      "Selected the option to not use the markers on the camera, the identity transformation will be used instead\n"
     ]
    },
    {
     "name": "stderr",
     "output_type": "stream",
     "text": [
      "1229it [04:13,  4.85it/s]\n"
     ]
    }
   ],
   "source": [
    "# Read all the delays calculated and show the results\n",
    "\n",
    "base_path = \"/home/schiavazza/data/hpe/vicon_dataset/processed/\"\n",
    "\n",
    "vicon_d_delays = []\n",
    "vicon_s_delays = []\n",
    "errors_d = []\n",
    "errors_s = []\n",
    "\n",
    "for root, dirs, files in tqdm(os.walk(base_path)):\n",
    "    for f in files:\n",
    "        if f == \"vicon_d_delay.txt\":\n",
    "            delay = np.loadtxt(os.path.join(root, f))\n",
    "            vicon_d_delays.append(delay)\n",
    "            try:\n",
    "                error = measure_error(root, delay, True)\n",
    "                errors_d.append(error)\n",
    "            except Exception as e:\n",
    "                print(e)\n",
    "        if f == \"vicon_s_delay.txt\":\n",
    "            delay = np.loadtxt(os.path.join(root, f))\n",
    "            vicon_s_delays.append(delay)\n",
    "            try:\n",
    "                error = measure_error(root, delay, False)\n",
    "                errors_s.append(error)\n",
    "            except Exception as e:\n",
    "                print(e)\n",
    "\n",
    "vicon_d_delays = np.array(vicon_d_delays)\n",
    "vicon_s_delays = np.array(vicon_s_delays)\n",
    "errors_d = np.array(errors_d)\n",
    "errors_s = np.array(errors_s)"
   ]
  },
  {
   "cell_type": "code",
   "execution_count": 9,
   "metadata": {},
   "outputs": [],
   "source": [
    "plt.rc('xtick',labelsize=15)\n",
    "plt.rc('ytick',labelsize=15)\n",
    "mpl.rcParams['axes.prop_cycle'] = mpl.cycler(color=[\"#742C81\", \"#FFA62B\", \"#1A589F\"]) "
   ]
  },
  {
   "cell_type": "code",
   "execution_count": 22,
   "metadata": {},
   "outputs": [
    {
     "data": {
      "text/plain": [
       "<matplotlib.legend.Legend at 0x7f5571632920>"
      ]
     },
     "execution_count": 22,
     "metadata": {},
     "output_type": "execute_result"
    },
    {
     "data": {
      "image/png": "[encoded data removed]",
      "text/plain": [
       "<Figure size 864x648 with 1 Axes>"
      ]
     },
     "metadata": {
      "needs_background": "light"
     },
     "output_type": "display_data"
    }
   ],
   "source": [
    "plt.figure(figsize=(12, 9))\n",
    "plt.tight_layout()\n",
    "plt.xlabel(\"Delay (s)\", fontsize=20)\n",
    "plt.hist(vicon_d_delays, 50, label=\"dynamic\");\n",
    "plt.hist(vicon_s_delays, 50, label=\"static\");\n",
    "plt.legend(fontsize=15)"
   ]
  },
  {
   "cell_type": "code",
   "execution_count": 11,
   "metadata": {},
   "outputs": [
    {
     "data": {
      "image/png": "[encoded data removed]",
      "text/plain": [
       "<Figure size 432x288 with 1 Axes>"
      ]
     },
     "metadata": {
      "needs_background": "light"
     },
     "output_type": "display_data"
    }
   ],
   "source": [
    "plt.hist(errors_d, 50, range=(0, 50));\n",
    "plt.hist(errors_s, 50, range=(0, 50));"
   ]
  },
  {
   "cell_type": "code",
   "execution_count": 12,
   "metadata": {},
   "outputs": [
    {
     "name": "stdout",
     "output_type": "stream",
     "text": [
      "dynamic: mean: 0.24237598236245805, std: 0.03024519735355159\n",
      "static: mean: 0.2691840953152174, std: 0.014839719731467065\n"
     ]
    }
   ],
   "source": [
    "print(f\"dynamic: mean: {np.mean(vicon_d_delays)}, std: {np.std(vicon_d_delays)}\")\n",
    "print(f\"static: mean: {np.mean(vicon_s_delays)}, std: {np.std(vicon_s_delays)}\")"
   ]
  },
  {
   "cell_type": "code",
   "execution_count": 13,
   "metadata": {},
   "outputs": [
    {
     "name": "stdout",
     "output_type": "stream",
     "text": [
      "dynamic: mean: 22.98595997343706, std: 19.904126451344666\n",
      "static: mean: 26.25144897297023, std: 20.29545784577626\n"
     ]
    }
   ],
   "source": [
    "print(f\"dynamic: mean: {np.mean(errors_d)}, std: {np.std(errors_d)}\")\n",
    "print(f\"static: mean: {np.mean(errors_s)}, std: {np.std(errors_s)}\")"
   ]
  },
  {
   "cell_type": "code",
   "execution_count": 8,
   "metadata": {},
   "outputs": [
    {
     "name": "stdout",
     "output_type": "stream",
     "text": [
      "Timer unit: 1e-09 s\n",
      "\n",
      "Total time: 3.68674 s\n",
      "File: /tmp/ipykernel_56718/3419834196.py\n",
      "Function: measure_error at line 1\n",
      "\n",
      "Line #      Hits         Time  Per Hit   % Time  Line Contents\n",
      "==============================================================\n",
      "     1                                           def measure_error(sequence_path, delay, dynamic=True):\n",
      "     2         1      16473.0  16473.0      0.0      head, sequence_name = os.path.split(sequence_path)\n",
      "     3                                           \n",
      "     4         1        390.0    390.0      0.0      if dynamic:\n",
      "     5         1      11614.0  11614.0      0.0          dvs_file_path = os.path.join(sequence_path, \"atis-d\")\n",
      "     6         1       4792.0   4792.0      0.0          annotated_path = os.path.join(sequence_path, \"atis_d_frames/labeled_points.yml\")\n",
      "     7         1       4337.0   4337.0      0.0          calib_path = os.path.join(head, \"calib-d.txt\")\n",
      "     8         1       4272.0   4272.0      0.0          extrinisc_path = os.path.join(head, \"extrinsic_d.npy\")\n",
      "     9                                               else:\n",
      "    10                                                   dvs_file_path = os.path.join(sequence_path, \"atis-s\")\n",
      "    11                                                   annotated_path = os.path.join(sequence_path, \"atis_s_frames/labeled_points.yml\")\n",
      "    12                                                   calib_path = os.path.join(head, \"calib-d.txt\")\n",
      "    13                                                   extrinisc_path = os.path.join(head, \"extrinsic_s.npy\")\n",
      "    14                                           \n",
      "    15         1       4213.0   4213.0      0.0      dvs_helper = DvsHelper(dvs_file_path)\n",
      "    16                                               # read the labeled 2d points\n",
      "    17         1   14283741.0    1e+07      0.4      dvs_helper.read_points_labels(annotated_path);\n",
      "    18                                               # extract the time of the labeled points\n",
      "    19         1       4677.0   4677.0      0.0      labels_times = dvs_helper.labeled_points['times'][:]\n",
      "    20                                               \n",
      "    21         1      12043.0  12043.0      0.0      c3d_file_path = os.path.join(sequence_path, \"../\" + sequence_name + \".c3d\")\n",
      "    22         1 3650163031.0    4e+09     99.0      c3d_helper = C3dHelper(c3d_file_path, delay=delay, camera_markers=dynamic, filter_camera_markers=False)\n",
      "    23                                           \n",
      "    24         1   17797900.0    2e+07      0.5      vicon_points = c3d_helper.get_vicon_points_interpolated(dvs_helper.labeled_points)\n",
      "    25         1    2173927.0    2e+06      0.1      vicon_points_mark = c3d_helper.transform_points_to_marker_frame(vicon_points)\n",
      "    26                                               # vicon_points_mark = vicon_points\n",
      "    27         1       4525.0   4525.0      0.0      dvs_helper.labeled_points['times']\n",
      "    28         1       2216.0   2216.0      0.0      vicon_points_mark['times']\n",
      "    29         1      75135.0  75135.0      0.0      proj_helper = ProjectionHelper(vicon_points_mark, dvs_helper.labeled_points)\n",
      "    30         1    1309750.0    1e+06      0.0      proj_helper.import_camera_calbration(calib_path);\n",
      "    31         1        607.0    607.0      0.0      proj_helper.image_points\n",
      "    32                                           \n",
      "    33         1     410388.0 410388.0      0.0      T = np.load(extrinisc_path)\n",
      "    34                                           \n",
      "    35         1     458302.0 458302.0      0.0      error = proj_helper.measure_error(T)\n",
      "    36                                               # print(f\"measured error for d:{delay} -> {error}\")\n",
      "    37         1        569.0    569.0      0.0      return error"
     ]
    }
   ],
   "source": [
    "%load_ext line_profiler\n",
    "%lprun -f measure_error measure_error(\"/home/schiavazza/data/hpe/vicon_dataset/processed/gaurvi/box_s1\", 0.231124800, True)"
   ]
  },
  {
   "cell_type": "code",
   "execution_count": 9,
   "metadata": {},
   "outputs": [],
   "source": [
    "def test():\n",
    "    helper = C3dHelper(\"/home/schiavazza/data/hpe/vicon_dataset/processed/gaurvi/box_s1.c3d\", delay=0.26, camera_markers=False, filter_camera_markers=False)"
   ]
  },
  {
   "cell_type": "code",
   "execution_count": 10,
   "metadata": {},
   "outputs": [
    {
     "name": "stdout",
     "output_type": "stream",
     "text": [
      "Selected the option to not use the markers on the camera, the identity transformation will be used instead\n"
     ]
    },
    {
     "name": "stdout",
     "output_type": "stream",
     "text": [
      "Timer unit: 1e-09 s\n",
      "\n",
      "Total time: 0.137046 s\n",
      "File: /tmp/ipykernel_56718/362671640.py\n",
      "Function: test at line 1\n",
      "\n",
      "Line #      Hits         Time  Per Hit   % Time  Line Contents\n",
      "==============================================================\n",
      "     1                                           def test():\n",
      "     2         1  137046149.0    1e+08    100.0      helper = C3dHelper(\"/home/schiavazza/data/hpe/vicon_dataset/processed/gaurvi/box_s1.c3d\", delay=0.26, camera_markers=False, filter_camera_markers=False)"
     ]
    }
   ],
   "source": [
    "%reload_ext line_profiler\n",
    "%lprun -f test test()\n"
   ]
  }
 ],
 "metadata": {
  "kernelspec": {
   "display_name": "Python 3",
   "language": "python",
   "name": "python3"
  },
  "language_info": {
   "codemirror_mode": {
    "name": "ipython",
    "version": 3
   },
   "file_extension": ".py",
   "mimetype": "text/x-python",
   "name": "python",
   "nbconvert_exporter": "python",
   "pygments_lexer": "ipython3",
   "version": "3.10.12"
  }
 },
 "nbformat": 4,
 "nbformat_minor": 2
}
