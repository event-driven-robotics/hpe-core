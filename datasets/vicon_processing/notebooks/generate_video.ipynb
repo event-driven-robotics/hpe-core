{
 "cells": [
  {
   "cell_type": "code",
   "execution_count": 1,
   "metadata": {},
   "outputs": [],
   "source": [
    "%matplotlib inline\n",
    "%load_ext autoreload\n",
    "%autoreload 2\n",
    "import numpy as np\n",
    "import sys\n",
    "import matplotlib.pyplot as plt\n",
    "import matplotlib.animation\n",
    "import yaml\n",
    "import cv2\n",
    "from scipy.spatial.transform import Rotation\n",
    "from matplotlib.patches import Rectangle\n",
    "from tqdm import tqdm\n",
    "\n",
    "\n",
    "sys.path.append('/home/schiavazza/code/hpe/hpe-core/datasets/')\n",
    "\n",
    "from vicon_processing.src.projection import ProjectionHelper\n",
    "from vicon_processing.src.data_helpers import DvsLabeler, DvsHelper, C3dHelper\n",
    "from vicon_processing.src import vis_utils, utils\n"
   ]
  },
  {
   "cell_type": "code",
   "execution_count": 2,
   "metadata": {},
   "outputs": [],
   "source": [
    "\n",
    "# import the DVS data\n",
    "dvs_file_path = '/home/schiavazza/data/hpe/vicon_recordings/stefano/2'\n",
    "dvs_helper = DvsHelper(dvs_file_path)\n"
   ]
  },
  {
   "cell_type": "code",
   "execution_count": 68,
   "metadata": {},
   "outputs": [
    {
     "name": "stdout",
     "output_type": "stream",
     "text": [
      "['camera:top                    ' 'camera:side                   '\n",
      " 'camera:front                  ' 'P001:LFHD                     '\n",
      " 'P001:RFHD                     ' 'P001:LBHD                     '\n",
      " 'P001:RBHD                     ' 'P001:C7                       '\n",
      " 'P001:T10                      ' 'P001:CLAV                     '\n",
      " 'P001:STRN                     ' 'P001:RBAK                     '\n",
      " 'P001:LSHO                     ' 'P001:LUPA                     '\n",
      " 'P001:LELB                     ' 'P001:LFRM                     '\n",
      " 'P001:LWRA                     ' 'P001:LWRB                     '\n",
      " 'P001:LFIN                     ' 'P001:RSHO                     '\n",
      " 'P001:RUPA                     ' 'P001:RELB                     '\n",
      " 'P001:RFRM                     ' 'P001:RWRA                     '\n",
      " 'P001:RWRB                     ' 'P001:RFIN                     '\n",
      " 'P001:LASI                     ' 'P001:RASI                     '\n",
      " 'P001:LPSI                     ' 'P001:RPSI                     '\n",
      " 'P001:LTHI                     ' 'P001:LKNE                     '\n",
      " 'P001:LTIB                     ' 'P001:LANK                     '\n",
      " 'P001:LHEE                     ' 'P001:LTOE                     '\n",
      " 'P001:RTHI                     ' 'P001:RKNE                     '\n",
      " 'P001:RTIB                     ' 'P001:RANK                     '\n",
      " 'P001:RHEE                     ' 'P001:RTOE                     '\n",
      " 'P001:PELO                     ' 'P001:PELA                     '\n",
      " 'P001:PELL                     ' 'P001:PELP                     '\n",
      " 'P001:LFEO                     ' 'P001:LFEA                     '\n",
      " 'P001:LFEL                     ' 'P001:LFEP                     '\n",
      " 'P001:LTIO                     ' 'P001:LTIA                     '\n",
      " 'P001:LTIL                     ' 'P001:LTIP                     '\n",
      " 'P001:LFOO                     ' 'P001:LFOA                     '\n",
      " 'P001:LFOL                     ' 'P001:LFOP                     '\n",
      " 'P001:LTOO                     ' 'P001:LTOA                     '\n",
      " 'P001:LTOL                     ' 'P001:LTOP                     '\n",
      " 'P001:RFEO                     ' 'P001:RFEA                     '\n",
      " 'P001:RFEL                     ' 'P001:RFEP                     '\n",
      " 'P001:RTIO                     ' 'P001:RTIA                     '\n",
      " 'P001:RTIL                     ' 'P001:RTIP                     '\n",
      " 'P001:RFOO                     ' 'P001:RFOA                     '\n",
      " 'P001:RFOL                     ' 'P001:RFOP                     '\n",
      " 'P001:RTOO                     ' 'P001:RTOA                     '\n",
      " 'P001:RTOL                     ' 'P001:RTOP                     '\n",
      " 'P001:HEDO                     ' 'P001:HEDA                     '\n",
      " 'P001:HEDL                     ' 'P001:HEDP                     '\n",
      " 'P001:LCLO                     ' 'P001:LCLA                     '\n",
      " 'P001:LCLL                     ' 'P001:LCLP                     '\n",
      " 'P001:RCLO                     ' 'P001:RCLA                     '\n",
      " 'P001:RCLL                     ' 'P001:RCLP                     '\n",
      " 'P001:TRXO                     ' 'P001:TRXA                     '\n",
      " 'P001:TRXL                     ' 'P001:TRXP                     '\n",
      " 'P001:LHUO                     ' 'P001:LHUA                     '\n",
      " 'P001:LHUL                     ' 'P001:LHUP                     '\n",
      " 'P001:LRAO                     ' 'P001:LRAA                     '\n",
      " 'P001:LRAL                     ' 'P001:LRAP                     '\n",
      " 'P001:LHNO                     ' 'P001:LHNA                     '\n",
      " 'P001:LHNL                     ' 'P001:LHNP                     '\n",
      " 'P001:RHUO                     ' 'P001:RHUA                     '\n",
      " 'P001:RHUL                     ' 'P001:RHUP                     '\n",
      " 'P001:RRAO                     ' 'P001:RRAA                     '\n",
      " 'P001:RRAL                     ' 'P001:RRAP                     '\n",
      " 'P001:RHNO                     ' 'P001:RHNA                     '\n",
      " 'P001:RHNL                     ' 'P001:RHNP                     '\n",
      " '*118                          ' '*119                          '\n",
      " '*120                          ' '*121                          '\n",
      " '*122                          ' '*123                          '\n",
      " '*124                          ' '*125                          '\n",
      " 'P001:LHJC                     ' 'P001:RHJC                     '\n",
      " 'P001:LKJC                     ' 'P001:RKJC                     '\n",
      " 'P001:LAJC                     ' 'P001:RAJC                     '\n",
      " 'P001:LSJC                     ' 'P001:RSJC                     '\n",
      " 'P001:LEJC                     ' 'P001:REJC                     '\n",
      " 'P001:LWJC                     ' 'P001:RWJC                     '\n",
      " 'camera:USERMO0                ' 'camera:USERMO1                '\n",
      " 'camera:USERMO2                ']\n"
     ]
    }
   ],
   "source": [
    "\n",
    "# load c3d vicon data\n",
    "c3d_file_path = '/home/schiavazza/data/hpe/vicon_recordings/EDPR_hpe/processed-tests/P002/session/stefano2.c3d'\n",
    "c3d_helper = C3dHelper(c3d_file_path)\n",
    "print(c3d_helper.reader.point_labels)\n"
   ]
  },
  {
   "cell_type": "code",
   "execution_count": 84,
   "metadata": {},
   "outputs": [
    {
     "name": "stdout",
     "output_type": "stream",
     "text": [
      "['P001:LHJC                     ' 'P001:RHJC                     '\n",
      " 'P001:LKJC                     ' 'P001:RKJC                     '\n",
      " 'P001:LAJC                     ' 'P001:RAJC                     '\n",
      " 'P001:LSJC                     ' 'P001:RSJC                     '\n",
      " 'P001:LEJC                     ' 'P001:REJC                     '\n",
      " 'P001:LWJC                     ' 'P001:RWJC                     ']\n"
     ]
    }
   ],
   "source": [
    "labels = c3d_helper.reader.point_labels[-15:-3]\n",
    "print(labels)"
   ]
  },
  {
   "cell_type": "code",
   "execution_count": 85,
   "metadata": {},
   "outputs": [],
   "source": []
  },
  {
   "cell_type": "code",
   "execution_count": 74,
   "metadata": {},
   "outputs": [],
   "source": [
    "\n",
    "# import transformation\n",
    "T = np.load('../data/transformation.npy')\n"
   ]
  },
  {
   "cell_type": "code",
   "execution_count": 6,
   "metadata": {},
   "outputs": [
    {
     "name": "stdout",
     "output_type": "stream",
     "text": [
      "Loading events... (may take a while)\n",
      "importIitYarp trying path: /home/schiavazza/data/hpe/vicon_recordings/stefano/2\n",
      "importIitYarp trying path: /home/schiavazza/data/hpe/vicon_recordings/stefano/2/ATIS\n"
     ]
    },
    {
     "name": "stderr",
     "output_type": "stream",
     "text": [
      "100%|██████████| 62810/62810 [03:37<00:00, 289.43it/s]\n"
     ]
    },
    {
     "name": "stdout",
     "output_type": "stream",
     "text": [
      "Examining info.log: /home/schiavazza/data/hpe/vicon_recordings/stefano/2/ATIS/info.log\n"
     ]
    },
    {
     "data": {
      "text/plain": [
       "{'ts': array([-1.6907109 , -1.6907109 , -1.6907109 , ..., 26.28953899,\n",
       "        26.28953899, 26.28953899]),\n",
       " 'x': array([181,  93, 506, ..., 203, 186, 201], dtype=uint16),\n",
       " 'y': array([273, 276, 280, ..., 117, 117, 117], dtype=uint16),\n",
       " 'pol': array([ True,  True, False, ..., False, False, False]),\n",
       " 'tsOffset': -1686759523.412273}"
      ]
     },
     "execution_count": 6,
     "metadata": {},
     "output_type": "execute_result"
    }
   ],
   "source": [
    "\n",
    "# reading events\n",
    "print('Loading events... (may take a while)')\n",
    "dvs_helper.read_events()\n"
   ]
  },
  {
   "cell_type": "code",
   "execution_count": 75,
   "metadata": {},
   "outputs": [],
   "source": [
    "\n",
    "c3d_helper.find_start_time()\n",
    "\n",
    "proj_helper = ProjectionHelper()\n",
    "proj_helper.import_camera_calbration('../data/temp_calib.txt');\n",
    "\n"
   ]
  },
  {
   "cell_type": "code",
   "execution_count": 87,
   "metadata": {},
   "outputs": [],
   "source": [
    "\n",
    "labels = c3d_helper.reader.point_labels[-15:-3]\n",
    "labels = [l.strip() for l in labels]\n",
    "\n",
    "with open('../data/labels.yml', 'w') as yaml_file:\n",
    "    yaml.dump(labels, yaml_file)"
   ]
  },
  {
   "cell_type": "code",
   "execution_count": null,
   "metadata": {},
   "outputs": [],
   "source": [
    "\n",
    "def get_projected_points(frame_id):\n",
    "    T_markers = c3d_helper.marker_T_at_frame_vector(frame_id)\n",
    "    points_dict = c3d_helper.get_points_dict(frame_id)\n",
    "    filtered_points = c3d_helper.filter_dict_labels(points_dict, labels)\n",
    "\n",
    "    v_points = c3d_helper.points_dict_to_array(filtered_points)\n",
    "    v_points = v_points[:, :4]\n",
    "    v_points[:, -1] = 1\n",
    "    \n",
    "    projected_points = proj_helper.project_to_frame(\n",
    "        proj_helper.transform_points(\n",
    "            v_points, T @ T_markers\n",
    "            )\n",
    "        )\n",
    "    \n",
    "    return projected_points\n",
    "\n",
    "# Define the codec and create VideoWriter object\n",
    "fourcc = cv2.VideoWriter_fourcc(*'mp4v')\n",
    "out = cv2.VideoWriter('output.mp4', fourcc, 30.0, (640, 480))\n",
    "\n",
    "for i in tqdm(range(c3d_helper.reader.first_frame, int(c3d_helper.reader.frame_count), 3)):\n",
    "    projected_points = get_projected_points(i);\n",
    "    \n",
    "    frame = np.ones((480, 640, 3), dtype=np.uint8) * 100\n",
    "\n",
    "    ts_start = c3d_helper.frame_times[i]\n",
    "    frame = utils.extract_frame(dvs_helper.events, ts_start, ts_start + 0.01, (480, 640, 3))\n",
    "\n",
    "    frame = vis_utils.plot_2d_points(frame, projected_points)\n",
    "    out.write(frame.astype(np.uint8))\n",
    "out.release()"
   ]
  },
  {
   "cell_type": "code",
   "execution_count": 9,
   "metadata": {},
   "outputs": [
    {
     "data": {
      "text/plain": [
       "1"
      ]
     },
     "execution_count": 9,
     "metadata": {},
     "output_type": "execute_result"
    }
   ],
   "source": [
    "c3d_helper.reader.first_frame"
   ]
  },
  {
   "cell_type": "code",
   "execution_count": 10,
   "metadata": {},
   "outputs": [
    {
     "data": {
      "text/plain": [
       "array([1.52])"
      ]
     },
     "execution_count": 10,
     "metadata": {},
     "output_type": "execute_result"
    }
   ],
   "source": [
    "%matplotlib inline\n",
    "\n",
    "c3d_helper.find_start_time()"
   ]
  },
  {
   "cell_type": "code",
   "execution_count": 11,
   "metadata": {},
   "outputs": [
    {
     "data": {
      "text/plain": [
       "1.692438"
      ]
     },
     "execution_count": 11,
     "metadata": {},
     "output_type": "execute_result"
    }
   ],
   "source": [
    "dvs_helper.read_annotation(dvs_helper.file_path)"
   ]
  },
  {
   "cell_type": "code",
   "execution_count": 12,
   "metadata": {},
   "outputs": [
    {
     "data": {
      "text/plain": [
       "array([-1.52      , -1.50999648, -1.49999296, ..., 26.87999296,\n",
       "       26.88999648, 26.9       ])"
      ]
     },
     "execution_count": 12,
     "metadata": {},
     "output_type": "execute_result"
    }
   ],
   "source": [
    "c3d_helper.frame_times"
   ]
  },
  {
   "cell_type": "code",
   "execution_count": 60,
   "metadata": {},
   "outputs": [
    {
     "name": "stdout",
     "output_type": "stream",
     "text": [
      "[-1.52       -1.50999648 -1.49999296 ... 26.87999296 26.88999648\n",
      " 26.9       ]\n"
     ]
    }
   ],
   "source": [
    "vicon_labeled_frames = np.arange(1000, 2050)\n",
    "labels = [\n",
    "    'camera:side'\n",
    "]\n",
    "\n",
    "# vicon_labeled_frames = c3d_helper.get_frame_time(labels_times)\n",
    "print(c3d_helper.frame_times)\n",
    "vicon_points = c3d_helper.get_vicon_points(vicon_labeled_frames, labels)"
   ]
  },
  {
   "cell_type": "code",
   "execution_count": 61,
   "metadata": {},
   "outputs": [],
   "source": [
    "vicon_points = c3d_helper.points_dict_to_array(vicon_points)"
   ]
  },
  {
   "cell_type": "code",
   "execution_count": 62,
   "metadata": {},
   "outputs": [
    {
     "data": {
      "text/plain": [
       "[<matplotlib.lines.Line2D at 0x7fefd20e0b80>,\n",
       " <matplotlib.lines.Line2D at 0x7fefd20e0be0>,\n",
       " <matplotlib.lines.Line2D at 0x7fefd20e0c10>]"
      ]
     },
     "execution_count": 62,
     "metadata": {},
     "output_type": "execute_result"
    },
    {
     "data": {
      "image/png": "[encoded data removed]",
      "text/plain": [
       "<Figure size 640x480 with 1 Axes>"
      ]
     },
     "metadata": {},
     "output_type": "display_data"
    }
   ],
   "source": [
    "plt.plot(vicon_points[:, :3])"
   ]
  },
  {
   "cell_type": "code",
   "execution_count": 59,
   "metadata": {},
   "outputs": [
    {
     "name": "stdout",
     "output_type": "stream",
     "text": [
      "[-1.52       -1.50999648 -1.49999296 ... 26.87999296 26.88999648\n",
      " 26.9       ]\n"
     ]
    },
    {
     "data": {
      "text/plain": [
       "[<matplotlib.lines.Line2D at 0x7fefd20c2b30>,\n",
       " <matplotlib.lines.Line2D at 0x7fefd20c2b90>,\n",
       " <matplotlib.lines.Line2D at 0x7fefd20c2bc0>]"
      ]
     },
     "execution_count": 59,
     "metadata": {},
     "output_type": "execute_result"
    },
    {
     "data": {
      "image/png": "[encoded data removed]",
      "text/plain": [
       "<Figure size 640x480 with 1 Axes>"
      ]
     },
     "metadata": {},
     "output_type": "display_data"
    }
   ],
   "source": [
    "# vicon_labeled_frames = np.arange(1000, 1500)\n",
    "labels = [\n",
    "    'camera:USERMO1'\n",
    "]\n",
    "\n",
    "# vicon_labeled_frames = c3d_helper.get_frame_time(labels_times)\n",
    "print(c3d_helper.frame_times)\n",
    "vicon_points = c3d_helper.get_vicon_points(vicon_labeled_frames, labels)\n",
    "vicon_points = c3d_helper.points_dict_to_array(vicon_points)\n",
    "plt.plot(vicon_points[:, :3])"
   ]
  },
  {
   "cell_type": "code",
   "execution_count": null,
   "metadata": {},
   "outputs": [],
   "source": []
  }
 ],
 "metadata": {
  "kernelspec": {
   "display_name": "venv",
   "language": "python",
   "name": "python3"
  },
  "language_info": {
   "codemirror_mode": {
    "name": "ipython",
    "version": 3
   },
   "file_extension": ".py",
   "mimetype": "text/x-python",
   "name": "python",
   "nbconvert_exporter": "python",
   "pygments_lexer": "ipython3",
   "version": "3.10.12"
  },
  "orig_nbformat": 4
 },
 "nbformat": 4,
 "nbformat_minor": 2
}
