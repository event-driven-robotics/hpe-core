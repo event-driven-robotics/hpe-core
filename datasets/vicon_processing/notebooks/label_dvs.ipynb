{
 "cells": [
  {
   "cell_type": "code",
   "execution_count": 1,
   "metadata": {},
   "outputs": [],
   "source": [
    "%matplotlib inline\n",
    "%load_ext autoreload\n",
    "%autoreload 2\n",
    "import numpy as np\n",
    "import sys\n",
    "import matplotlib.pyplot as plt\n",
    "import yaml\n",
    "import cv2\n",
    "\n",
    "sys.path.append('/home/cpham-iit.local/hpe-core/datasets')\n",
    "\n",
    "from vicon_processing.src.data_helpers import DvsLabeler, DvsHelper"
   ]
  },
  {
   "cell_type": "code",
   "execution_count": 2,
   "metadata": {},
   "outputs": [
    {
     "name": "stdout",
     "output_type": "stream",
     "text": [
      "importIitYarp trying path: /home/cpham-iit.local/data/hpe/vicon_recordings/arren/box_s1/atis-s\n"
     ]
    },
    {
     "name": "stderr",
     "output_type": "stream",
     "text": [
      "100%|██████████| 7657/7657 [00:10<00:00, 719.70it/s] \n"
     ]
    },
    {
     "name": "stdout",
     "output_type": "stream",
     "text": [
      "Examining info.log: /home/cpham-iit.local/data/hpe/vicon_recordings/arren/box_s1/atis-s/info.log\n"
     ]
    }
   ],
   "source": [
    "# import the DVS data\n",
    "dvs_file_path = '/home/cpham-iit.local/data/hpe/vicon_recordings/arren/box_s1/atis-s'\n",
    "dvs_helper = DvsHelper(dvs_file_path)\n",
    "events = dvs_helper.read_events()"
   ]
  },
  {
   "cell_type": "code",
   "execution_count": 7,
   "metadata": {},
   "outputs": [
    {
     "data": {
      "text/plain": [
       "11214549"
      ]
     },
     "execution_count": 7,
     "metadata": {},
     "output_type": "execute_result"
    }
   ],
   "source": [
    "# for #count number of events per each timestamps\n",
    "len(events['ts'])\n"
   ]
  },
  {
   "cell_type": "code",
   "execution_count": 4,
   "metadata": {},
   "outputs": [],
   "source": [
    "# define the point labels to use\n",
    "labels = [\n",
    "    'P000:RASI',\n",
    "    'P000:LASI',\n",
    "    'P000:STRN',\n",
    "    'P000:CLAV',\n",
    "    # 'P000:RFHD',\n",
    "    # 'P000:LFHD',\n",
    "    # 'LSHO',\n",
    "    # 'P000:RSHO',\n",
    "    # 'P000:RELB',\n",
    "    'P000:LUPA',\n",
    "    'P000:LELB',\n",
    "    'P000:LFRM',\n",
    "    # 'P000:RKNE',\n",
    "    # 'P000:RTIB',\n",
    "]"
   ]
  },
  {
   "cell_type": "code",
   "execution_count": 11,
   "metadata": {},
   "outputs": [],
   "source": [
    "# frame_times = [5.0, 7.3, 9.0, 14.0, 15.0]\n",
    "frame_times = [14.0, 15.0]\n",
    "labeler = DvsLabeler(dvs_helper.events, (480, 640, 3))\n",
    "out = labeler.label_data(frame_times, labels, duration=0.02)"
   ]
  },
  {
   "cell_type": "code",
   "execution_count": 12,
   "metadata": {},
   "outputs": [],
   "source": [
    "labeler.save_labeled_points('../data/points_giovanna5_2.yml')"
   ]
  },
  {
   "cell_type": "code",
   "execution_count": null,
   "metadata": {},
   "outputs": [],
   "source": []
  }
 ],
 "metadata": {
  "kernelspec": {
   "display_name": "venv",
   "language": "python",
   "name": "python3"
  },
  "language_info": {
   "codemirror_mode": {
    "name": "ipython",
    "version": 3
   },
   "file_extension": ".py",
   "mimetype": "text/x-python",
   "name": "python",
   "nbconvert_exporter": "python",
   "pygments_lexer": "ipython3",
   "version": "3.10.12"
  },
  "orig_nbformat": 4
 },
 "nbformat": 4,
 "nbformat_minor": 2
}
